{
 "cells": [
  {
   "cell_type": "markdown",
   "metadata": {},
   "source": [
    "# September 15, 2022: FC matrices: Emoprox2 trial level responses: Mashid ROIs:"
   ]
  },
  {
   "cell_type": "code",
   "execution_count": 1,
   "metadata": {},
   "outputs": [],
   "source": [
    "import os\n",
    "import sys\n",
    "from os.path import join as pjoin\n",
    "\n",
    "import numpy as np\n",
    "import pandas as pd\n",
    "import pickle, random\n",
    "from tqdm import tqdm\n",
    "from scipy.stats import (norm, zscore, permutation_test)\n",
    "from itertools import combinations\n",
    "\n",
    "# ISC\n",
    "from brainiak.isc import (\n",
    "    isc, isfc, bootstrap_isc, compute_summary_statistic, squareform_isfc, compute_correlation,\n",
    "    _check_timeseries_input, _check_targets_input, _threshold_nans\n",
    ")\n",
    "from statsmodels.stats.multitest import multipletests\n",
    "from scipy.spatial.distance import squareform\n",
    "from brainiak.fcma.util import compute_correlation\n",
    "\n",
    "# network analyses\n",
    "import networkx as nx\n",
    "\n",
    "# plotting\n",
    "import matplotlib.pyplot as plt\n",
    "plt.rcParamsDefault['font.family'] = \"sans-serif\"\n",
    "plt.rcParamsDefault['font.sans-serif'] = \"Arial\"\n",
    "plt.rcParams['font.size'] = 14\n",
    "plt.rcParams[\"errorbar.capsize\"] = 0.5\n",
    "\n",
    "import cmasher as cmr #CITE ITS PAPER IN YOUR MANUSCRIPT\n",
    "\n",
    "# main dirs\n",
    "proj_dir = pjoin(os.environ['HOME'], 'network_dynamics')\n",
    "results_dir = f\"{proj_dir}/results\"\n",
    "month_dir = f\"{proj_dir}/nb/sep22\"\n",
    "\n",
    "# folders\n",
    "sys.path.insert(0, proj_dir)\n",
    "import helpers.dataset_utils as dataset_utils\n",
    "import helpers.isc_utils as isc_utils\n",
    "import helpers.fc_utils as fc_utils"
   ]
  },
  {
   "cell_type": "code",
   "execution_count": 2,
   "metadata": {},
   "outputs": [
    {
     "name": "stderr",
     "output_type": "stream",
     "text": [
      "100%|██████████| 30/30 [00:00<00:00, 37.22it/s]"
     ]
    },
    {
     "name": "stdout",
     "output_type": "stream",
     "text": [
      "RETR : maxTRs 6\n",
      "APPR : maxTRs 7\n"
     ]
    },
    {
     "name": "stderr",
     "output_type": "stream",
     "text": [
      "\n"
     ]
    }
   ],
   "source": [
    "class ARGS(): pass\n",
    "args = ARGS()\n",
    "\n",
    "args.APPR = 1.0\n",
    "args.RETR = -1.0\n",
    "args.LABEL_NAMES = ['RETR', 'APPR']\n",
    "args.LABELS = [args.RETR, args.APPR]\n",
    "\n",
    "# arbitrary threshold on proximity\n",
    "args.near_miss_thresh = 0.7\n",
    "args.near_miss_width = 8\n",
    "\n",
    "set_name = 'mashid'\n",
    "\n",
    "args.main_data_path = (\n",
    "    f\"{proj_dir}/data/emoprox2/data/rois_{set_name}\"\n",
    ")\n",
    "# os.system(f\"mkdir -p {main_output_path}\")\n",
    "\n",
    "args.SEED = 74\n",
    "np.random.seed(args.SEED)\n",
    "\n",
    "# ROIs\n",
    "roi_set_file = f\"{proj_dir}/data/rois/{set_name}/roi_set_{set_name}.csv\"\n",
    "args.roi_set_df = pd.read_csv(roi_set_file)\n",
    "args.roi_set_df = args.roi_set_df.sort_values(by=['network'])\n",
    "# display(args.roi_set_df)\n",
    "\n",
    "args.roi_names = args.roi_set_df['roi_name'].values\n",
    "args.nw_names = args.roi_set_df['network'].values\n",
    "args.roi_idxs = args.roi_set_df.index.values\n",
    "args.num_rois = len(args.roi_idxs)\n",
    "\n",
    "# trial level responses\n",
    "with open(\n",
    "    f\"/home/joyneelm/FORAGING/local/notebooks/dynamical_systems_emoprox/emoprox_motion_parameters.pkl\", \n",
    "    'rb'\n",
    ") as f:\n",
    "    motion_df = pickle.load(f)\n",
    "\n",
    "args.trial_option = 'trial'\n",
    "\n",
    "args.subjects = motion_df.pid.unique()\n",
    "random.Random(args.SEED).shuffle(args.subjects)\n",
    "args.explor_subjects = args.subjects[ : round(0.25 * len(args.subjects))]\n",
    "\n",
    "X = dataset_utils.get_emo2_trial_level_responses(\n",
    "    args, \n",
    "    motion_df, \n",
    "    args.explor_subjects\n",
    ")\n",
    "\n",
    "# change roi ordering\n",
    "for idx_label, label in enumerate(args.LABELS):\n",
    "    for idx_subj in range(len(X[idx_label])):\n",
    "        X[idx_label][idx_subj] = X[idx_label][idx_subj][:, :, args.roi_idxs]"
   ]
  },
  {
   "cell_type": "code",
   "execution_count": null,
   "metadata": {},
   "outputs": [],
   "source": []
  }
 ],
 "metadata": {
  "kernelspec": {
   "display_name": "Python 3.9.10 ('expln-ai3.9': venv)",
   "language": "python",
   "name": "python3"
  },
  "language_info": {
   "codemirror_mode": {
    "name": "ipython",
    "version": 3
   },
   "file_extension": ".py",
   "mimetype": "text/x-python",
   "name": "python",
   "nbconvert_exporter": "python",
   "pygments_lexer": "ipython3",
   "version": "3.9.10"
  },
  "orig_nbformat": 4,
  "vscode": {
   "interpreter": {
    "hash": "3b5cb7249c2b05c08ddca5a7278173987b98c572958faaa00b04c99c3e034fdc"
   }
  }
 },
 "nbformat": 4,
 "nbformat_minor": 2
}
