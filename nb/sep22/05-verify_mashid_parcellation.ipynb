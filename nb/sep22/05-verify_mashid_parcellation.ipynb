{
 "cells": [
  {
   "cell_type": "markdown",
   "metadata": {},
   "source": [
    "# September 22, 2022: Verify if Mashid's parcellation looks correct\n",
    "looks alright, every ROI is at its coordinates"
   ]
  },
  {
   "cell_type": "code",
   "execution_count": 1,
   "metadata": {},
   "outputs": [],
   "source": [
    "import os \n",
    "import sys\n",
    "from os.path import join as pjoin\n",
    "import numpy as np\n",
    "import scipy as sp\n",
    "import pandas as pd\n",
    "from tqdm.notebook import tqdm\n",
    "import pickle, random\n",
    "import csv\n",
    "\n",
    "# nilearn\n",
    "import nilearn.image as image\n",
    "\n",
    "# main dirs\n",
    "proj_dir = pjoin(os.environ['HOME'], 'network_dynamics')\n",
    "results_dir = f\"{proj_dir}/results\"\n",
    "month_dir = f\"{proj_dir}/nb/sep22\"\n",
    "\n",
    "# plotting\n",
    "import matplotlib as mpl\n",
    "import matplotlib.pyplot as plt\n",
    "plt.rcParamsDefault['font.family'] = \"sans-serif\"\n",
    "plt.rcParamsDefault['font.sans-serif'] = \"Arial\"\n",
    "plt.rcParams['font.size'] = 14\n",
    "plt.rcParams[\"errorbar.capsize\"] = 0.5\n",
    "\n",
    "import cmasher as cmr #CITE ITS PAPER IN YOUR MANUSCRIPT\n",
    "\n",
    "# folders\n",
    "sys.path.insert(0, proj_dir)\n",
    "# import helpers.dataset_utils as dataset_utils\n",
    "import helpers.fc_utils as fc_utils"
   ]
  },
  {
   "cell_type": "code",
   "execution_count": 2,
   "metadata": {},
   "outputs": [],
   "source": [
    "mask_file = f\"/home/govindas/network_dynamics/data/rois/mashid/final_mask_cortical+subcortical.nii.gz\"\n",
    "mask = image.load_img(mask_file).get_fdata()"
   ]
  },
  {
   "cell_type": "code",
   "execution_count": 3,
   "metadata": {},
   "outputs": [
    {
     "name": "stdout",
     "output_type": "stream",
     "text": [
      "1.0 81\n",
      "2.0 81\n",
      "3.0 81\n",
      "4.0 76\n",
      "5.0 81\n",
      "6.0 81\n",
      "7.0 81\n",
      "8.0 81\n",
      "9.0 81\n",
      "10.0 81\n",
      "11.0 81\n",
      "12.0 81\n",
      "13.0 81\n",
      "14.0 81\n",
      "15.0 81\n",
      "16.0 81\n",
      "17.0 81\n",
      "18.0 81\n",
      "19.0 51\n",
      "20.0 81\n",
      "21.0 81\n",
      "22.0 81\n",
      "23.0 81\n",
      "24.0 81\n",
      "25.0 78\n",
      "26.0 68\n",
      "27.0 68\n",
      "28.0 81\n",
      "29.0 81\n",
      "30.0 68\n",
      "31.0 68\n",
      "32.0 52\n",
      "33.0 79\n",
      "34.0 68\n",
      "35.0 73\n",
      "36.0 81\n",
      "37.0 68\n",
      "38.0 35\n",
      "39.0 47\n",
      "40.0 132\n",
      "41.0 129\n",
      "42.0 24\n",
      "43.0 15\n",
      "44.0 9\n",
      "45.0 8\n"
     ]
    }
   ],
   "source": [
    "for roi in np.unique(mask)[1:]:\n",
    "     print(roi, np.sum(mask == roi))"
   ]
  }
 ],
 "metadata": {
  "kernelspec": {
   "display_name": "Python 3.9.10 ('expln-ai3.9': venv)",
   "language": "python",
   "name": "python3"
  },
  "language_info": {
   "codemirror_mode": {
    "name": "ipython",
    "version": 3
   },
   "file_extension": ".py",
   "mimetype": "text/x-python",
   "name": "python",
   "nbconvert_exporter": "python",
   "pygments_lexer": "ipython3",
   "version": "3.9.10"
  },
  "orig_nbformat": 4,
  "vscode": {
   "interpreter": {
    "hash": "3b5cb7249c2b05c08ddca5a7278173987b98c572958faaa00b04c99c3e034fdc"
   }
  }
 },
 "nbformat": 4,
 "nbformat_minor": 2
}
