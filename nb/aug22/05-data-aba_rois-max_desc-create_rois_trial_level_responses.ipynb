{
 "cells": [
  {
   "cell_type": "markdown",
   "metadata": {},
   "source": [
    "# August 29: ABA dataset: MAX ROIs: create ROI-masks and trial level responses"
   ]
  },
  {
   "cell_type": "code",
   "execution_count": 1,
   "metadata": {},
   "outputs": [
    {
     "name": "stderr",
     "output_type": "stream",
     "text": [
      "/home/govindas/venvs/expln-ai3.9/lib/python3.9/site-packages/nilearn/input_data/__init__.py:27: FutureWarning: The import path 'nilearn.input_data' is deprecated in version 0.9. Importing from 'nilearn.input_data' will be possible at least until release 0.13.0. Please import from 'nilearn.maskers' instead.\n",
      "  warnings.warn(message, FutureWarning)\n"
     ]
    }
   ],
   "source": [
    "import os \n",
    "import sys\n",
    "from os.path import join as pjoin\n",
    "import numpy as np\n",
    "import pandas as pd\n",
    "from tqdm.notebook import tqdm\n",
    "import pickle, random\n",
    "import csv\n",
    "\n",
    "from nltools import mask\n",
    "from nilearn import image, masking\n",
    "\n",
    "# plotting\n",
    "import matplotlib.pyplot as plt\n",
    "plt.rcParamsDefault['font.family'] = \"sans-serif\"\n",
    "plt.rcParamsDefault['font.sans-serif'] = \"Arial\"\n",
    "plt.rcParams['font.size'] = 14\n",
    "plt.rcParams[\"errorbar.capsize\"] = 0.5\n",
    "\n",
    "import cmasher as cmr #CITE ITS PAPER IN YOUR MANUSCRIPT\n",
    "\n",
    "# main dirs\n",
    "proj_dir = pjoin(os.environ['HOME'], 'network_dynamics')\n",
    "results_dir = f\"{proj_dir}/results\"\n",
    "month_dir = f\"{proj_dir}/nb/aug22\"\n",
    "\n",
    "# folders\n",
    "sys.path.insert(0, proj_dir)\n",
    "import helpers.dataset_utils as dataset_utils"
   ]
  },
  {
   "cell_type": "markdown",
   "metadata": {},
   "source": [
    "## subject-wise masks\n",
    "some voxels are removed due to excess motion in each individual"
   ]
  },
  {
   "cell_type": "code",
   "execution_count": 2,
   "metadata": {},
   "outputs": [
    {
     "data": {
      "application/vnd.jupyter.widget-view+json": {
       "model_id": "cd8e1b4f10c94898909b0808fa630f95",
       "version_major": 2,
       "version_minor": 0
      },
      "text/plain": [
       "  0%|          | 0/91 [00:00<?, ?it/s]"
      ]
     },
     "metadata": {},
     "output_type": "display_data"
    }
   ],
   "source": [
    "main_mask_path = (\n",
    "    f\"/home/govindas/vscode-BSWIFT-mnt/ABA/dataset/preproc/masksAndCensors\"\n",
    ")\n",
    "\n",
    "# set_name = f\"max\"\n",
    "# final_mask_file = f\"/home/govindas/parcellations/MAX_85_ROI_masks/MAX_ROIs_final_gm_85.nii.gz\"\n",
    "set_name = f\"mashid\"\n",
    "final_mask_file = f\"{proj_dir}/data/rois/mashid/final_mask_cortical+subcortical.nii.gz\"\n",
    "\n",
    "for subj in tqdm(os.listdir(main_mask_path)):\n",
    "    mask_path = (\n",
    "        f\"{main_mask_path}/{subj}\"\n",
    "    )\n",
    "\n",
    "    mask_goodVoxels_file = f\"{mask_path}/mask_{set_name}_goodVoxels.nii.gz\"\n",
    "    # if os.path.exists(mask_goodVoxels_file): continue\n",
    "    mask_goodVoxels = image.math_img(\n",
    "        f'img1 * img2 * img3',\n",
    "        img1=f\"{mask_path}/MNI152_T1_2mm_brain_GM_02182017_goodVoxels.nii.gz\",\n",
    "        img2=f\"{mask_path}/commonVoxelsMask.nii.gz\",\n",
    "        img3=f\"{final_mask_file}\"\n",
    "    )    \n",
    "    mask_goodVoxels.to_filename(mask_goodVoxels_file)\n",
    "\n",
    "    # print(f\"{subj} : {len(np.unique(mask_goodVoxels.get_fdata()))}\")"
   ]
  },
  {
   "cell_type": "markdown",
   "metadata": {},
   "source": [
    "## trial level responses\n",
    "- responses of the play periods aligned to the end of play period. \n",
    "- each block/trial has time range $[-11.25, 6.25]$ seconds where the block/trial ends at $0.0$ seconds.\n",
    "- two TRs at the boundary of the block/trial were added extra for GLM's computational purposes. So the actual duration of the block/trial is 13TRs."
   ]
  },
  {
   "cell_type": "code",
   "execution_count": 3,
   "metadata": {},
   "outputs": [],
   "source": [
    "# collect the list of subject names\n",
    "pd.DataFrame(\n",
    "    np.array(list(\n",
    "        map(lambda x: x[-3:], os.listdir(main_mask_path))\n",
    "    ))\n",
    ").to_csv(\n",
    "    f\"{proj_dir}/data/aba/scripts/subj_names.txt\",\n",
    "    header=None, \n",
    "    index=None\n",
    ")"
   ]
  },
  {
   "cell_type": "code",
   "execution_count": 4,
   "metadata": {},
   "outputs": [],
   "source": [
    "# run 3dDeconvolve\n",
    "# bash runDeconvolve.sh "
   ]
  },
  {
   "cell_type": "code",
   "execution_count": 15,
   "metadata": {},
   "outputs": [],
   "source": [
    "main_data_dir = (\n",
    "    f\"/home/govindas/network_dynamics/data/aba\"\n",
    "    f\"/data/ROI_trialwise_13TR_4plays_offset_reducedRuns/unassumed/rois-{set_name}\"\n",
    ")\n",
    "\n",
    "# remove empty subj folders\n",
    "for subj in os.listdir(main_data_dir):\n",
    "    if len(os.listdir(f\"{main_data_dir}/{subj}\")) == 0:\n",
    "        os.system(f\"rm -rf {main_data_dir}/{subj}\")\n",
    "    if set_name == 'mashid' and subj == 'ABA615':\n",
    "        os.system(f\"rm -rf {main_data_dir}/{subj}\")\n",
    "        # this subj has one ROI less, better to not include this subj in analysis\n",
    "\n",
    "# set_name = 'max'\n",
    "\n",
    "class ARGS(): pass\n",
    "args = ARGS()\n",
    "\n",
    "args.TRIAL_LEN = 13\n",
    "args.LABEL_NAMES = ['PLAY_highT', 'PLAY_lowT', 'PLAY_highR', 'PLAY_lowR']\n",
    "\n",
    "args.SEED = 74\n",
    "np.random.seed(args.SEED)\n",
    "\n",
    "args.subjects = os.listdir(main_data_dir)\n",
    "random.Random(args.SEED).shuffle(args.subjects)\n",
    "\n",
    "'''\n",
    "exploratory dataset\n",
    "'''\n",
    "args.explor_subjects = args.subjects[ : round(0.25 * len(args.subjects))]"
   ]
  },
  {
   "cell_type": "code",
   "execution_count": 16,
   "metadata": {},
   "outputs": [
    {
     "name": "stderr",
     "output_type": "stream",
     "text": [
      "100%|██████████| 22/22 [00:37<00:00,  1.71s/it]\n"
     ]
    }
   ],
   "source": [
    "X, raw_cols, used_cols = dataset_utils.get_aba_trial_level_responses(\n",
    "    args, \n",
    "    main_data_dir, \n",
    "    args.explor_subjects\n",
    ")"
   ]
  },
  {
   "cell_type": "code",
   "execution_count": 17,
   "metadata": {},
   "outputs": [],
   "source": [
    "with open(f\"{proj_dir}/data/aba/data/exploratory_data/exploratory_data_rois-{set_name}.pkl\", \"wb\") as f:\n",
    "    pickle.dump(X, f)"
   ]
  },
  {
   "cell_type": "code",
   "execution_count": 18,
   "metadata": {},
   "outputs": [
    {
     "name": "stdout",
     "output_type": "stream",
     "text": [
      "0-------\n",
      "(32, 13, 45)\n",
      "(32, 13, 45)\n",
      "(32, 13, 45)\n",
      "(30, 13, 45)\n",
      "(19, 13, 45)\n",
      "(32, 13, 45)\n",
      "(32, 13, 45)\n",
      "(28, 13, 45)\n",
      "(32, 13, 45)\n",
      "(32, 13, 45)\n",
      "(32, 13, 45)\n",
      "(24, 13, 45)\n",
      "(26, 13, 45)\n",
      "(32, 13, 45)\n",
      "(32, 13, 45)\n",
      "(32, 13, 45)\n",
      "(24, 13, 45)\n",
      "(32, 13, 45)\n",
      "(32, 13, 45)\n",
      "(32, 13, 45)\n",
      "(21, 13, 45)\n",
      "(32, 13, 45)\n",
      "1-------\n",
      "(32, 13, 45)\n",
      "(32, 13, 45)\n",
      "(32, 13, 45)\n",
      "(31, 13, 45)\n",
      "(20, 13, 45)\n",
      "(32, 13, 45)\n",
      "(32, 13, 45)\n",
      "(31, 13, 45)\n",
      "(32, 13, 45)\n",
      "(32, 13, 45)\n",
      "(32, 13, 45)\n",
      "(24, 13, 45)\n",
      "(28, 13, 45)\n",
      "(31, 13, 45)\n",
      "(32, 13, 45)\n",
      "(32, 13, 45)\n",
      "(24, 13, 45)\n",
      "(32, 13, 45)\n",
      "(31, 13, 45)\n",
      "(32, 13, 45)\n",
      "(23, 13, 45)\n",
      "(32, 13, 45)\n",
      "2-------\n",
      "(32, 13, 45)\n",
      "(32, 13, 45)\n",
      "(32, 13, 45)\n",
      "(30, 13, 45)\n",
      "(17, 13, 45)\n",
      "(32, 13, 45)\n",
      "(32, 13, 45)\n",
      "(32, 13, 45)\n",
      "(32, 13, 45)\n",
      "(32, 13, 45)\n",
      "(32, 13, 45)\n",
      "(24, 13, 45)\n",
      "(28, 13, 45)\n",
      "(32, 13, 45)\n",
      "(32, 13, 45)\n",
      "(32, 13, 45)\n",
      "(24, 13, 45)\n",
      "(32, 13, 45)\n",
      "(31, 13, 45)\n",
      "(32, 13, 45)\n",
      "(22, 13, 45)\n",
      "(32, 13, 45)\n",
      "3-------\n",
      "(32, 13, 45)\n",
      "(32, 13, 45)\n",
      "(32, 13, 45)\n",
      "(31, 13, 45)\n",
      "(18, 13, 45)\n",
      "(32, 13, 45)\n",
      "(32, 13, 45)\n",
      "(32, 13, 45)\n",
      "(32, 13, 45)\n",
      "(32, 13, 45)\n",
      "(32, 13, 45)\n",
      "(24, 13, 45)\n",
      "(28, 13, 45)\n",
      "(32, 13, 45)\n",
      "(32, 13, 45)\n",
      "(32, 13, 45)\n",
      "(22, 13, 45)\n",
      "(32, 13, 45)\n",
      "(31, 13, 45)\n",
      "(32, 13, 45)\n",
      "(24, 13, 45)\n",
      "(32, 13, 45)\n"
     ]
    }
   ],
   "source": [
    "for label in X.keys():\n",
    "    print(f\"{label}-------\")\n",
    "    for x in X[label]:\n",
    "        print(x.shape)"
   ]
  },
  {
   "cell_type": "code",
   "execution_count": 12,
   "metadata": {},
   "outputs": [
    {
     "data": {
      "text/plain": [
       "'ABA615'"
      ]
     },
     "execution_count": 12,
     "metadata": {},
     "output_type": "execute_result"
    }
   ],
   "source": [
    "args.explor_subjects[3]"
   ]
  }
 ],
 "metadata": {
  "kernelspec": {
   "display_name": "Python 3.9.10 ('expln-ai3.9': venv)",
   "language": "python",
   "name": "python3"
  },
  "language_info": {
   "codemirror_mode": {
    "name": "ipython",
    "version": 3
   },
   "file_extension": ".py",
   "mimetype": "text/x-python",
   "name": "python",
   "nbconvert_exporter": "python",
   "pygments_lexer": "ipython3",
   "version": "3.9.10"
  },
  "orig_nbformat": 4,
  "vscode": {
   "interpreter": {
    "hash": "3b5cb7249c2b05c08ddca5a7278173987b98c572958faaa00b04c99c3e034fdc"
   }
  }
 },
 "nbformat": 4,
 "nbformat_minor": 2
}
