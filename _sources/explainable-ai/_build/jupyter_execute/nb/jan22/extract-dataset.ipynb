{
 "cells": [
  {
   "cell_type": "markdown",
   "id": "5a350b52-487d-4245-a142-6fe079af1358",
   "metadata": {
    "tags": []
   },
   "source": [
    "# get dataset: emoproxII"
   ]
  },
  {
   "cell_type": "code",
   "execution_count": 1,
   "id": "848a0ccc-e951-41bf-b003-37869ee22976",
   "metadata": {},
   "outputs": [
    {
     "name": "stderr",
     "output_type": "stream",
     "text": [
      "/home/govindas/venvs/expln-ai3.9/lib/python3.9/site-packages/tensorflow_addons/utils/ensure_tf_install.py:37: UserWarning: You are currently using a nightly version of TensorFlow (2.9.0-dev20220124). \n",
      "TensorFlow Addons offers no support for the nightly versions of TensorFlow. Some things might work, some other might not. \n",
      "If you encounter a bug, do not file an issue on GitHub.\n",
      "  warnings.warn(\n"
     ]
    }
   ],
   "source": [
    "import os\n",
    "import sys\n",
    "from os.path import join as pjoin\n",
    "\n",
    "\n",
    "import numpy as np \n",
    "import pandas as pd \n",
    "from glob import glob\n",
    "import pickle \n",
    "\n",
    "# main dirs\n",
    "proj_dir = pjoin(os.environ['HOME'], 'explainable-ai')\n",
    "\n",
    "# folders\n",
    "sys.path.insert(0, proj_dir)\n",
    "from helpers.dataset_utils import *\n",
    "from helpers.base_model import *\n",
    "from helpers.model_definitions import *"
   ]
  },
  {
   "cell_type": "code",
   "execution_count": 2,
   "id": "2574b91b-886c-4f1b-96c8-887462a85d5b",
   "metadata": {},
   "outputs": [],
   "source": [
    "main_path = f\"/home/joyneelm/approach-retreat/data\"\n",
    "time_series_path = join(main_path, \"interim/CON{subj}/CON{subj}_MAX_rois_meanTS.1D\")\n",
    "target_path = join(main_path, \"raw/CON{subj}/regs_fancy/CON{subj}_all_regs.txt\")"
   ]
  },
  {
   "cell_type": "markdown",
   "id": "9abe0009-6950-4f8f-a4cf-7582f0c1f8c2",
   "metadata": {
    "tags": []
   },
   "source": [
    "## organize data per run in a df "
   ]
  },
  {
   "cell_type": "code",
   "execution_count": 3,
   "id": "0d8df910-60e6-4f20-b2d0-24e3060220b6",
   "metadata": {},
   "outputs": [
    {
     "data": {
      "text/html": [
       "<div>\n",
       "<style scoped>\n",
       "    .dataframe tbody tr th:only-of-type {\n",
       "        vertical-align: middle;\n",
       "    }\n",
       "\n",
       "    .dataframe tbody tr th {\n",
       "        vertical-align: top;\n",
       "    }\n",
       "\n",
       "    .dataframe thead th {\n",
       "        text-align: right;\n",
       "    }\n",
       "</style>\n",
       "<table border=\"1\" class=\"dataframe\">\n",
       "  <thead>\n",
       "    <tr style=\"text-align: right;\">\n",
       "      <th></th>\n",
       "      <th>subj</th>\n",
       "      <th>run</th>\n",
       "      <th>ts</th>\n",
       "      <th>prox</th>\n",
       "      <th>censor</th>\n",
       "    </tr>\n",
       "  </thead>\n",
       "  <tbody>\n",
       "    <tr>\n",
       "      <th>0</th>\n",
       "      <td>123</td>\n",
       "      <td>1</td>\n",
       "      <td>[[0.184886, 0.237496, -0.869801, -0.077807, -0...</td>\n",
       "      <td>[0.3019871606242329, 0.3593604239884513, 0.416...</td>\n",
       "      <td>[1, 1, 1, 1, 1, 1, 1, 1, 1, 1, 1, 1, 1, 1, 1, ...</td>\n",
       "    </tr>\n",
       "    <tr>\n",
       "      <th>1</th>\n",
       "      <td>123</td>\n",
       "      <td>2</td>\n",
       "      <td>[[0.197471, 0.278874, -0.539631, 0.180507, 0.4...</td>\n",
       "      <td>[0.4512517163194395, 0.403617813223693, 0.3560...</td>\n",
       "      <td>[1, 1, 1, 1, 1, 1, 1, 1, 1, 1, 1, 1, 1, 1, 1, ...</td>\n",
       "    </tr>\n",
       "    <tr>\n",
       "      <th>2</th>\n",
       "      <td>123</td>\n",
       "      <td>3</td>\n",
       "      <td>[[0.060113, 0.16845, 0.202967, 0.0108, 0.27181...</td>\n",
       "      <td>[0.4950820412729392, 0.4404447770753938, 0.380...</td>\n",
       "      <td>[1, 1, 1, 1, 1, 1, 1, 1, 1, 1, 1, 1, 1, 0, 1, ...</td>\n",
       "    </tr>\n",
       "    <tr>\n",
       "      <th>3</th>\n",
       "      <td>123</td>\n",
       "      <td>4</td>\n",
       "      <td>[[-0.126394, -0.255507, -0.543931, -0.35221, -...</td>\n",
       "      <td>[0.3476834139494951, 0.3990256455963081, 0.450...</td>\n",
       "      <td>[1, 1, 1, 1, 1, 1, 1, 1, 1, 1, 1, 1, 1, 1, 1, ...</td>\n",
       "    </tr>\n",
       "    <tr>\n",
       "      <th>4</th>\n",
       "      <td>123</td>\n",
       "      <td>5</td>\n",
       "      <td>[[-0.167003, -0.329194, 0.711475, -0.060723, -...</td>\n",
       "      <td>[0.4991469039553821, 0.441531815585027, 0.3806...</td>\n",
       "      <td>[1, 1, 1, 1, 1, 1, 1, 1, 1, 1, 1, 1, 1, 1, 1, ...</td>\n",
       "    </tr>\n",
       "    <tr>\n",
       "      <th>...</th>\n",
       "      <td>...</td>\n",
       "      <td>...</td>\n",
       "      <td>...</td>\n",
       "      <td>...</td>\n",
       "      <td>...</td>\n",
       "    </tr>\n",
       "    <tr>\n",
       "      <th>711</th>\n",
       "      <td>042</td>\n",
       "      <td>2</td>\n",
       "      <td>[[-0.058707, -0.34063, -1.171228, 0.004106, -0...</td>\n",
       "      <td>[0.4512517163194395, 0.403617813223693, 0.3560...</td>\n",
       "      <td>[1, 1, 1, 1, 1, 1, 1, 1, 1, 1, 1, 1, 1, 1, 1, ...</td>\n",
       "    </tr>\n",
       "    <tr>\n",
       "      <th>712</th>\n",
       "      <td>042</td>\n",
       "      <td>3</td>\n",
       "      <td>[[0.116604, -0.237293, -0.015429, -0.034826, -...</td>\n",
       "      <td>[0.4950820412729392, 0.4406881501898595, 0.380...</td>\n",
       "      <td>[1, 1, 1, 1, 1, 1, 1, 1, 1, 1, 1, 1, 1, 0, 1, ...</td>\n",
       "    </tr>\n",
       "    <tr>\n",
       "      <th>713</th>\n",
       "      <td>042</td>\n",
       "      <td>4</td>\n",
       "      <td>[[-0.44084, -0.046966, -1.170635, 0.289755, -0...</td>\n",
       "      <td>[0.348026457813505, 0.399483037414988, 0.45071...</td>\n",
       "      <td>[1, 1, 1, 1, 1, 1, 1, 1, 1, 1, 1, 1, 1, 1, 1, ...</td>\n",
       "    </tr>\n",
       "    <tr>\n",
       "      <th>714</th>\n",
       "      <td>042</td>\n",
       "      <td>5</td>\n",
       "      <td>[[0.409907, -0.082538, -1.07226, -0.206831, -0...</td>\n",
       "      <td>[0.4991469039553821, 0.441531815585027, 0.3806...</td>\n",
       "      <td>[1, 1, 1, 1, 1, 1, 1, 1, 1, 1, 1, 1, 1, 1, 1, ...</td>\n",
       "    </tr>\n",
       "    <tr>\n",
       "      <th>715</th>\n",
       "      <td>042</td>\n",
       "      <td>6</td>\n",
       "      <td>[[-0.055194, -0.13724, 0.019737, 0.101967, 0.3...</td>\n",
       "      <td>[0.3768834148159293, 0.4256255019324579, 0.474...</td>\n",
       "      <td>[1, 1, 1, 1, 1, 1, 1, 1, 1, 1, 1, 1, 1, 1, 1, ...</td>\n",
       "    </tr>\n",
       "  </tbody>\n",
       "</table>\n",
       "<p>716 rows × 5 columns</p>\n",
       "</div>"
      ],
      "text/plain": [
       "    subj  run                                                 ts  \\\n",
       "0    123    1  [[0.184886, 0.237496, -0.869801, -0.077807, -0...   \n",
       "1    123    2  [[0.197471, 0.278874, -0.539631, 0.180507, 0.4...   \n",
       "2    123    3  [[0.060113, 0.16845, 0.202967, 0.0108, 0.27181...   \n",
       "3    123    4  [[-0.126394, -0.255507, -0.543931, -0.35221, -...   \n",
       "4    123    5  [[-0.167003, -0.329194, 0.711475, -0.060723, -...   \n",
       "..   ...  ...                                                ...   \n",
       "711  042    2  [[-0.058707, -0.34063, -1.171228, 0.004106, -0...   \n",
       "712  042    3  [[0.116604, -0.237293, -0.015429, -0.034826, -...   \n",
       "713  042    4  [[-0.44084, -0.046966, -1.170635, 0.289755, -0...   \n",
       "714  042    5  [[0.409907, -0.082538, -1.07226, -0.206831, -0...   \n",
       "715  042    6  [[-0.055194, -0.13724, 0.019737, 0.101967, 0.3...   \n",
       "\n",
       "                                                  prox  \\\n",
       "0    [0.3019871606242329, 0.3593604239884513, 0.416...   \n",
       "1    [0.4512517163194395, 0.403617813223693, 0.3560...   \n",
       "2    [0.4950820412729392, 0.4404447770753938, 0.380...   \n",
       "3    [0.3476834139494951, 0.3990256455963081, 0.450...   \n",
       "4    [0.4991469039553821, 0.441531815585027, 0.3806...   \n",
       "..                                                 ...   \n",
       "711  [0.4512517163194395, 0.403617813223693, 0.3560...   \n",
       "712  [0.4950820412729392, 0.4406881501898595, 0.380...   \n",
       "713  [0.348026457813505, 0.399483037414988, 0.45071...   \n",
       "714  [0.4991469039553821, 0.441531815585027, 0.3806...   \n",
       "715  [0.3768834148159293, 0.4256255019324579, 0.474...   \n",
       "\n",
       "                                                censor  \n",
       "0    [1, 1, 1, 1, 1, 1, 1, 1, 1, 1, 1, 1, 1, 1, 1, ...  \n",
       "1    [1, 1, 1, 1, 1, 1, 1, 1, 1, 1, 1, 1, 1, 1, 1, ...  \n",
       "2    [1, 1, 1, 1, 1, 1, 1, 1, 1, 1, 1, 1, 1, 0, 1, ...  \n",
       "3    [1, 1, 1, 1, 1, 1, 1, 1, 1, 1, 1, 1, 1, 1, 1, ...  \n",
       "4    [1, 1, 1, 1, 1, 1, 1, 1, 1, 1, 1, 1, 1, 1, 1, ...  \n",
       "..                                                 ...  \n",
       "711  [1, 1, 1, 1, 1, 1, 1, 1, 1, 1, 1, 1, 1, 1, 1, ...  \n",
       "712  [1, 1, 1, 1, 1, 1, 1, 1, 1, 1, 1, 1, 1, 0, 1, ...  \n",
       "713  [1, 1, 1, 1, 1, 1, 1, 1, 1, 1, 1, 1, 1, 1, 1, ...  \n",
       "714  [1, 1, 1, 1, 1, 1, 1, 1, 1, 1, 1, 1, 1, 1, 1, ...  \n",
       "715  [1, 1, 1, 1, 1, 1, 1, 1, 1, 1, 1, 1, 1, 1, 1, ...  \n",
       "\n",
       "[716 rows x 5 columns]"
      ]
     },
     "execution_count": 3,
     "metadata": {},
     "output_type": "execute_result"
    }
   ],
   "source": [
    "subj_folder_list = glob(f\"{main_path}/raw/*\", recursive=False)\n",
    "num_TRs = 360 # per run\n",
    "\n",
    "data_df = get_data_df(subj_folder_list, time_series_path, target_path, num_TRs)\n",
    "data_df"
   ]
  },
  {
   "cell_type": "code",
   "execution_count": 4,
   "id": "7f259afd-5f28-4c8b-807f-33e83ea11bc9",
   "metadata": {},
   "outputs": [],
   "source": [
    "# save the dataframe\n",
    "file_name = f\"{proj_dir}/data/emoprox2/dataframe.pkl\"\n",
    "data_df.to_pickle(file_name)"
   ]
  },
  {
   "cell_type": "raw",
   "id": "f3002799-cccc-4237-9434-bac9c3c13b67",
   "metadata": {},
   "source": [
    "## create input and target vectors"
   ]
  },
  {
   "cell_type": "raw",
   "id": "a5a6111e-7826-4d70-939b-d977b66c98a7",
   "metadata": {},
   "source": [
    "# split subjects into train and test partitions\n",
    "subjs = pd.unique(data_df['subj'])\n",
    "train_subjs, test_subjs = split_subjs(subjs, 0.9)\n",
    "\n",
    "# create X and y\n",
    "train_arrays = get_Xy(data_df, train_subjs) # (X_train, y_train, mask_train)\n",
    "test_arrays = get_Xy(data_df, test_subjs) # (X_test, y_test, mask_test)"
   ]
  },
  {
   "cell_type": "raw",
   "id": "ff7fa813-becb-4797-af24-9786648fbb51",
   "metadata": {},
   "source": [
    "# save these arrays\n",
    "with open(pjoin(proj_dir, 'data/emoprox2', 'train_test_arrays.pkl'), 'wb') as f:\n",
    "    pickle.dump({'train':train_arrays, 'test':test_arrays}, f)"
   ]
  }
 ],
 "metadata": {
  "kernelspec": {
   "display_name": "Python 3",
   "language": "python",
   "name": "python3"
  },
  "language_info": {
   "codemirror_mode": {
    "name": "ipython",
    "version": 3
   },
   "file_extension": ".py",
   "mimetype": "text/x-python",
   "name": "python",
   "nbconvert_exporter": "python",
   "pygments_lexer": "ipython3",
   "version": "3.9.10"
  }
 },
 "nbformat": 4,
 "nbformat_minor": 5
}