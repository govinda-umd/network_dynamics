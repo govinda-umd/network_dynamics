{
 "cells": [
  {
   "cell_type": "markdown",
   "id": "561af485-e9bd-42a7-afe6-a17c7979db85",
   "metadata": {
    "tags": []
   },
   "source": [
    "# January 21-25, 2022: basic pipeline"
   ]
  },
  {
   "cell_type": "code",
   "execution_count": 1,
   "id": "208e90c2-fbc9-48ab-9f66-41024f3852b1",
   "metadata": {},
   "outputs": [
    {
     "name": "stderr",
     "output_type": "stream",
     "text": [
      "/home/govindas/venvs/expln-ai3.9/lib/python3.9/site-packages/tensorflow_addons/utils/ensure_tf_install.py:37: UserWarning: You are currently using a nightly version of TensorFlow (2.9.0-dev20220124). \n",
      "TensorFlow Addons offers no support for the nightly versions of TensorFlow. Some things might work, some other might not. \n",
      "If you encounter a bug, do not file an issue on GitHub.\n",
      "  warnings.warn(\n"
     ]
    }
   ],
   "source": [
    "import os\n",
    "import sys\n",
    "from os.path import join as pjoin\n",
    "\n",
    "\n",
    "import numpy as np\n",
    "import pandas as pd\n",
    "import tensorflow as tf\n",
    "import tensorflow_addons as tfa\n",
    "import pickle \n",
    "\n",
    "import shap\n",
    "\n",
    "# main dirs\n",
    "proj_dir = pjoin(os.environ['HOME'], 'explainable-ai')\n",
    "\n",
    "# folders\n",
    "sys.path.insert(0, proj_dir)\n",
    "from helpers.dataset_utils import *\n",
    "from helpers.base_model import *\n",
    "from helpers.model_definitions import *\n",
    "\n",
    "# select the GPU to be used\n",
    "gpus = tf.config.list_physical_devices('GPU')\n",
    "try:\n",
    "    tf.config.experimental.set_memory_growth(gpus[0], True)\n",
    "    tf.config.experimental.set_memory_growth(gpus[1], True)\n",
    "    tf.config.experimental.set_visible_devices(gpus[1], 'GPU')\n",
    "except:\n",
    "    # Invalid device or cannot modify virtual devices once initialized.\n",
    "    pass"
   ]
  },
  {
   "cell_type": "markdown",
   "id": "020499ef-abb1-44f6-a539-bbda337643bf",
   "metadata": {
    "tags": []
   },
   "source": [
    "## data"
   ]
  },
  {
   "cell_type": "code",
   "execution_count": 2,
   "id": "43a1d088-6eec-4df5-8cf5-e754a6ede8ac",
   "metadata": {},
   "outputs": [
    {
     "name": "stderr",
     "output_type": "stream",
     "text": [
      "2022-02-01 14:24:32.001067: I tensorflow/core/platform/cpu_feature_guard.cc:151] This TensorFlow binary is optimized with oneAPI Deep Neural Network Library (oneDNN) to use the following CPU instructions in performance-critical operations:  AVX2 AVX512F FMA\n",
      "To enable them in other operations, rebuild TensorFlow with the appropriate compiler flags.\n",
      "2022-02-01 14:24:32.398153: I tensorflow/core/common_runtime/gpu/gpu_device.cc:1525] Created device /job:localhost/replica:0/task:0/device:GPU:0 with 14796 MB memory:  -> device: 1, name: Quadro RTX 5000, pci bus id: 0000:65:00.0, compute capability: 7.5\n"
     ]
    }
   ],
   "source": [
    "# get data\n",
    "with open(pjoin(proj_dir, 'data/emoprox2', 'train_test_arrays.pkl'), 'rb') as f:\n",
    "    data_dict = pickle.load(f)\n",
    "\n",
    "# converting to tf tensors\n",
    "data_dict['train'] = to_tensor(data_dict['train'])\n",
    "data_dict['test'] = to_tensor(data_dict['test'])\n",
    "\n",
    "# get inputs, targets and masks\n",
    "train_X = data_dict['train'][0]\n",
    "train_y = data_dict['train'][1]\n",
    "train_mask = data_dict['train'][2]\n",
    "\n",
    "test_X = data_dict['test'][0]\n",
    "test_y = data_dict['test'][1]\n",
    "test_mask = data_dict['test'][2]\n",
    "\n",
    "# mask the tensors\n",
    "train_X = train_X * tf.expand_dims(tf.cast(train_mask, 'float32'), -1)\n",
    "train_y = train_y * tf.cast(train_mask, 'float32')\n",
    "\n",
    "test_X = test_X * tf.expand_dims(tf.cast(test_mask, 'float32'), -1)\n",
    "test_y = test_y * tf.cast(test_mask, 'float32')"
   ]
  },
  {
   "cell_type": "code",
   "execution_count": 3,
   "id": "bbaa9310-308d-4425-9d2b-47fbeaa7a53d",
   "metadata": {},
   "outputs": [
    {
     "data": {
      "text/plain": [
       "TensorShape([645, 360])"
      ]
     },
     "execution_count": 3,
     "metadata": {},
     "output_type": "execute_result"
    }
   ],
   "source": [
    "train_mask.shape"
   ]
  },
  {
   "cell_type": "markdown",
   "id": "bd049c5e-4c4a-4803-8a0e-996b36b6a38f",
   "metadata": {
    "tags": []
   },
   "source": [
    "## model"
   ]
  },
  {
   "cell_type": "code",
   "execution_count": 4,
   "id": "4fb13ff4-ed2c-477c-8bc9-3c92db4d3deb",
   "metadata": {},
   "outputs": [],
   "source": [
    "model = Linear_Model()\n",
    "\n",
    "default_slice = lambda x, start, end : x[start : end, ...]\n",
    "\n",
    "linear_regression = base_model(task_type=\"regression\", \n",
    "                               model=model, \n",
    "                               loss_object=tf.keras.losses.MeanSquaredError(), \n",
    "                               L1_scale=0.0, \n",
    "                               L2_scale=0.0,\n",
    "                               optimizer=tf.keras.optimizers.Adam(learning_rate=0.01), \n",
    "                               eval_metric=tfa.metrics.RSquare(),\n",
    "                               eval_metric_name=\"% var explained\",\n",
    "                               batch_size=32, \n",
    "                               slice_input=default_slice)"
   ]
  },
  {
   "cell_type": "markdown",
   "id": "e40d2520-7fb3-4e6a-9879-dfcb57672444",
   "metadata": {
    "tags": []
   },
   "source": [
    "## train the model"
   ]
  },
  {
   "cell_type": "code",
   "execution_count": 5,
   "id": "43be253d-c19a-440f-b2c9-f9bd0593b7f1",
   "metadata": {},
   "outputs": [
    {
     "name": "stdout",
     "output_type": "stream",
     "text": [
      "Epoch 000: Train Loss: 0.449, Train % var explained: -505.795%  Val Loss: 0.260, Val % var explained: -277.047%  \n",
      "Epoch 001: Train Loss: 0.170, Train % var explained: -138.390%  Val Loss: 0.118, Val % var explained: -71.300%  \n",
      "Epoch 002: Train Loss: 0.099, Train % var explained: -42.024%  Val Loss: 0.083, Val % var explained: -20.447%  \n",
      "Epoch 003: Train Loss: 0.076, Train % var explained: -10.699%  Val Loss: 0.071, Val % var explained: -4.157%  \n",
      "Epoch 004: Train Loss: 0.069, Train % var explained: -0.440%  Val Loss: 0.067, Val % var explained: 2.382%  \n",
      "Epoch 005: Train Loss: 0.066, Train % var explained: 3.664%  Val Loss: 0.065, Val % var explained: 4.894%  \n",
      "Epoch 006: Train Loss: 0.065, Train % var explained: 5.445%  Val Loss: 0.064, Val % var explained: 6.087%  \n",
      "Epoch 007: Train Loss: 0.064, Train % var explained: 6.311%  Val Loss: 0.064, Val % var explained: 6.708%  \n",
      "Epoch 008: Train Loss: 0.064, Train % var explained: 6.753%  Val Loss: 0.064, Val % var explained: 7.034%  \n",
      "Epoch 009: Train Loss: 0.064, Train % var explained: 6.983%  Val Loss: 0.063, Val % var explained: 7.206%  \n"
     ]
    }
   ],
   "source": [
    "results = linear_regression.fit(train_X=train_X, \n",
    "                                train_Y=train_y, \n",
    "                                val_X=train_X, \n",
    "                                val_Y=train_y, \n",
    "                                num_epochs=10)"
   ]
  },
  {
   "cell_type": "code",
   "execution_count": 12,
   "id": "b2796cfe-d2df-4e77-8704-998973924a17",
   "metadata": {},
   "outputs": [
    {
     "data": {
      "text/plain": [
       "TensorShape([645, 360, 1])"
      ]
     },
     "execution_count": 12,
     "metadata": {},
     "output_type": "execute_result"
    }
   ],
   "source": [
    "y_pred = linear_regression.model(train_X)\n",
    "y_pred.shape"
   ]
  },
  {
   "cell_type": "markdown",
   "id": "c7b7116b-e36b-4a51-9962-6a0e6654e634",
   "metadata": {
    "tags": []
   },
   "source": [
    "## Shapley values"
   ]
  },
  {
   "cell_type": "code",
   "execution_count": 14,
   "id": "6eb408d6-e3c9-45ff-bd5a-384d274608e3",
   "metadata": {},
   "outputs": [
    {
     "name": "stdout",
     "output_type": "stream",
     "text": [
      "(100, 85)\n"
     ]
    }
   ],
   "source": [
    "# select a set of background examples to take an expectation over\n",
    "s = train_X.shape\n",
    "X = tf.reshape(train_X, shape=(s[0]*s[1], s[2])).numpy()\n",
    "\n",
    "# background = train_X[np.random.choice(train_X.shape[0], 100, replace=False), :]\n",
    "X_background = shap.utils.sample(X, 100)\n",
    "print(X_background.shape)"
   ]
  },
  {
   "cell_type": "code",
   "execution_count": 20,
   "id": "3ed574ad-9fb8-4289-9fa1-bc1b8d2f4d77",
   "metadata": {},
   "outputs": [],
   "source": [
    "# SHAP explainer\n",
    "explainer = shap.KernelExplainer(linear_regression.model, X_background)"
   ]
  },
  {
   "cell_type": "code",
   "execution_count": null,
   "id": "d3693989-6e9b-46b6-8875-3507e900699c",
   "metadata": {},
   "outputs": [],
   "source": []
  },
  {
   "cell_type": "raw",
   "id": "a9f1a504-b289-49bb-a1cb-4cadf5e8fa59",
   "metadata": {},
   "source": [
    "explainer = shap.KernelExplainer(model=linear_regression.model, \n",
    "                                 data=X_background)\n",
    "shap_values = explainer.shap_values(test_X[0, 0:1, :].numpy())"
   ]
  },
  {
   "cell_type": "raw",
   "id": "2caf80ce-41dc-4ade-869f-51d505547363",
   "metadata": {},
   "source": [
    "shap_values.shape"
   ]
  }
 ],
 "metadata": {
  "kernelspec": {
   "display_name": "Python 3",
   "language": "python",
   "name": "python3"
  },
  "language_info": {
   "codemirror_mode": {
    "name": "ipython",
    "version": 3
   },
   "file_extension": ".py",
   "mimetype": "text/x-python",
   "name": "python",
   "nbconvert_exporter": "python",
   "pygments_lexer": "ipython3",
   "version": "3.9.10"
  }
 },
 "nbformat": 4,
 "nbformat_minor": 5
}
