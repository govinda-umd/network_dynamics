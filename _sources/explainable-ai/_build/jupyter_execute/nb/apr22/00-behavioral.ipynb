{
 "cells": [
  {
   "cell_type": "code",
   "execution_count": 1,
   "id": "bbe9ae77-4fc4-47ef-8af8-7b449fc417f5",
   "metadata": {},
   "outputs": [],
   "source": [
    "import pandas as pd\n",
    "import numpy as np\n",
    "import glob\n",
    "from os.path import basename\n",
    "from pathlib import Path\n",
    "\n",
    "import matplotlib.pyplot as plt\n",
    "import seaborn as sns\n",
    "\n",
    "import re\n",
    "import math"
   ]
  },
  {
   "cell_type": "markdown",
   "id": "3ada1b9a-72a8-4b15-b8b6-4b4542475a5b",
   "metadata": {},
   "source": [
    "# Create Regressors"
   ]
  },
  {
   "cell_type": "code",
   "execution_count": 126,
   "id": "367f3b03-bff5-4d77-b90c-00a946c0fae3",
   "metadata": {},
   "outputs": [],
   "source": [
    "class data_loader:\n",
    "    def __init__(self, subj, **kwargs):\n",
    "        self.subj = int(subj)\n",
    "        self.files = sorted(glob.glob('/home/songtao/ABA/bswift/dataset/behavioral/QSQ_{subj}/SUBJ{subj}_RUN*'.format(subj = self.subj)))\n",
    "        self.runs = sorted(list(set([basename(i).split('_')[1] for i in self.files])))\n",
    "        self.useRuns = [i for i in self.runs if i in [\"RUN{0}\".format(i) for i in range(1, 9)]]\n",
    "        ## Speical case for ABA600\n",
    "        if self.subj == 600:\n",
    "            self.useRuns = [i for i in self.useRuns if i != 'RUN5']\n",
    "        ## Remove excluded runs if applied\n",
    "        if kwargs != {}:\n",
    "            self.useRuns = [i[1] for i in [(idx+1, run) for idx, run in enumerate(self.useRuns)] \n",
    "                            if i[0] not in kwargs['excludeRuns']]\n",
    "        \n",
    "        \n",
    "    def run_info(self, run, long=False):\n",
    "        event = pd.read_csv([i for i in self.files if \"event\" in i if run in i][0])\n",
    "        \n",
    "        # Extract trials condition info for the run\n",
    "        Rename = {'Shocked':'Rec', 'Touch':'Rec', 'Escaped':'NotRec', \n",
    "                  'Rewarded 100':'Rec', 'Rewarded 10':'Rec', 'Missed':'NotRec'}\n",
    "        \n",
    "        condInfo = event[event['kind'].isin(['Shocked', 'Touch', 'Escaped', 'Rewarded 100', \n",
    "                                             'Rewarded 10', 'Missed'])].replace(Rename)\n",
    "        condInfo['Cond'] = condInfo['kind'] + '_' + condInfo['level'].replace({1:'high', 0:'low'}) + \\\n",
    "                            condInfo['encounter_type'].replace({1:'T', 0:'R'})\n",
    "        condInfo = condInfo[['encounter', 'Cond']].reset_index(drop=True)\n",
    "        \n",
    "        ## Combine trials condition info with event df\n",
    "        event = event.merge(condInfo, how='left', on='encounter')\n",
    "        eventCols = ['play_start', 'play_end', 'isi_start', 'isi_end', \n",
    "                     'feedback_start', 'feedback_end', 'iti_start', 'iti_end']\n",
    "        event = event[event['kind'].isin(eventCols)]\n",
    "        \n",
    "        # Combine ongoing time with event df, Long form\n",
    "        ongoing = pd.read_csv([i for i in self.files if \"ongoing\" in i if run in i][0])\n",
    "        ongoing['time'] -= ongoing['time'].values[0]\n",
    "        \n",
    "        df = event.merge(ongoing.drop(['kind'], axis=1), how='left', on=['frame', 'encounter'])\n",
    "        df['Subj'] = self.subj\n",
    "        df['Run'] = run\n",
    "        df['Trial'] = df['encounter']\n",
    "        df = df[['Subj', 'Run', 'Trial', 'time', 'kind', 'Cond']]\n",
    "        \n",
    "        ## Remove incomplete trials\n",
    "        ### Check completion of trials\n",
    "        complete = [(i, df[df['Trial'] == i].shape[0]) for i in df['Trial'].unique()]\n",
    "        ### Remove incompleted trials\n",
    "        for tri in complete:\n",
    "            if (tri[1] < 8):\n",
    "                df = df.drop(df[df['Trial'] == tri[0]].index)\n",
    "                print(\"For ABA{0}, {1}: Last tiral is removed due to incompletion\".format(self.subj, run))\n",
    "            else:\n",
    "                continue\n",
    "        \n",
    "        ## Turn df into short form\n",
    "        if long:\n",
    "            return df\n",
    "        else:\n",
    "            short = pd.concat([df[['Subj', 'Run', 'Trial', 'Cond']].drop_duplicates().reset_index(drop=True), \n",
    "                               df.pivot(columns='kind', values='time').apply(lambda x: x.dropna().to_numpy()).reset_index(drop=True)[eventCols]], \n",
    "                              axis=1)\n",
    "            return short\n",
    "        \n",
    "    def concatRun_info(self, skip=True):\n",
    "        if skip:\n",
    "            runs = self.useRuns\n",
    "        else:\n",
    "            runs = self.runs\n",
    "        \n",
    "        out = []    \n",
    "        for run in runs:\n",
    "            out.append(self.run_info(run))\n",
    "        out = pd.concat(out).reset_index(drop=True)\n",
    "            \n",
    "        return out\n",
    "    \n",
    "    def write_regressor(self, path, phase, condList, align='end', duration=False, df=None):\n",
    "        if df is None:\n",
    "            df = self.concatRun_info()\n",
    "        col = [\"{0}_start\".format(phase), \"{0}_end\".format(phase)]\n",
    "        \n",
    "        out = {}\n",
    "        condBool = True if len(condList) == 8 else False\n",
    "        for cond in condList:\n",
    "            if condBool:\n",
    "                tmp = df[df['Cond'] == cond][['Run'] + col]\n",
    "            else:\n",
    "                tmp = df[df['Cond'].str.contains(cond)][['Run'] + col]\n",
    "            res = []\n",
    "            for run in self.useRuns:\n",
    "                tmpSub = tmp[tmp['Run'] == run]\n",
    "                item = \"{0}_{1}\".format(phase, align)\n",
    "                time = tmpSub[item].tolist()\n",
    "                if duration:\n",
    "                    dur = (tmpSub[col[1]] - tmpSub[col[0]]).tolist()\n",
    "                    res.append([\"{0:.3f}:{1:.3f}\".format(i, j) for i, j in zip(time, dur)])\n",
    "                else:\n",
    "                    res.append([\"{0:.3f}\".format(i) for i in time])\n",
    "                if res[-1] == []:\n",
    "                    res[-1] = ['*']\n",
    "            out[cond] = res\n",
    "            \n",
    "        outPath = \"/home/songtao/ABA/zoopsy/stimtimes/{0}/ABA{1}/regs/\".format(path, self.subj)\n",
    "        Path(outPath).mkdir(parents=True, exist_ok=True)\n",
    "        \n",
    "        for cond, values in out.items():\n",
    "            filename = \"ABA{subj}_{phase}_{cond}.txt\".format(subj=self.subj, phase=phase, cond=cond)\n",
    "            with open(outPath + filename, 'w') as f:\n",
    "                for i in values[:-1]:\n",
    "                    f.write(\"{0}\\n\".format(\"\\t\".join(i)))\n",
    "                f.write(\"{0}\".format(\"\\t\".join(values[-1])))\n",
    "                \n",
    "    def write_rest(self, path, df=None):\n",
    "        if df is None:\n",
    "            df = self.concatRun_info()\n",
    "        rest_start = df.groupby(['Run'])['iti_end'].max().reset_index()\n",
    "        rest_start = (rest_start['iti_end'] + 0.017).to_numpy()\n",
    "        if self.subj == 600:\n",
    "            volumns = 257\n",
    "        elif self.subj == 601:\n",
    "            volumns = 333\n",
    "        else:\n",
    "            volumns = 410\n",
    "        rest_dur = volumns*1.25 - rest_start\n",
    "        \n",
    "        outPath = \"/home/songtao/ABA/zoopsy/stimtimes/{0}/ABA{1}/regs/\".format(path, self.subj)\n",
    "        Path(outPath).mkdir(parents=True, exist_ok=True)\n",
    "        filename = \"ABA{subj}_rest.txt\".format(subj=self.subj)\n",
    "        \n",
    "        with open(outPath + filename, 'w') as f:\n",
    "            for i, j in zip(rest_start, rest_dur):\n",
    "                if j >= 0:\n",
    "                    f.write(\"{0:.3f}:{1:.3f}\\n\".format(i, j))\n",
    "                else:\n",
    "                    f.write(\"*\\n\")\n",
    "                    print(\"Caution: behavioral log is longer than scan for ABA{subj}: {run}\".format(subj=self.subj, run=np.where(rest_dur==j)[0][0] + 1))"
   ]
  },
  {
   "cell_type": "code",
   "execution_count": 124,
   "id": "4893a5ec-fe0a-4e29-9bc6-5c77c2785043",
   "metadata": {},
   "outputs": [],
   "source": [
    "cond4List = ['highT', 'lowT', 'highR', 'lowR']\n",
    "cond8List = [\"{0}_{1}\".format(j, i) for i in cond4List for j in ['Rec', 'NotRec']]"
   ]
  },
  {
   "cell_type": "code",
   "execution_count": 125,
   "id": "65601c6e-a7f0-4f6d-92bc-668c6ac1c36f",
   "metadata": {},
   "outputs": [],
   "source": [
    "subjList = sorted(glob.glob(\"/home/songtao/ABA/bswift/dataset/behavioral/QSQ_6??\"))\n",
    "subjList = [basename(i).split('_')[1] for i in subjList]"
   ]
  },
  {
   "cell_type": "code",
   "execution_count": 5,
   "id": "c58adb63-fd41-40b4-8db5-18f314196981",
   "metadata": {},
   "outputs": [
    {
     "name": "stdout",
     "output_type": "stream",
     "text": [
      "For ABA600, RUN1: Last tiral is removed due to incompletion\n",
      "For ABA600, RUN2: Last tiral is removed due to incompletion\n",
      "For ABA600, RUN3: Last tiral is removed due to incompletion\n",
      "For ABA600, RUN6: Last tiral is removed due to incompletion\n",
      "For ABA600, RUN7: Last tiral is removed due to incompletion\n",
      "For ABA600, RUN8: Last tiral is removed due to incompletion\n",
      "For ABA601, RUN3: Last tiral is removed due to incompletion\n",
      "For ABA601, RUN4: Last tiral is removed due to incompletion\n",
      "For ABA601, RUN7: Last tiral is removed due to incompletion\n",
      "For ABA601, RUN8: Last tiral is removed due to incompletion\n",
      "For ABA628, RUN6: Last tiral is removed due to incompletion\n"
     ]
    }
   ],
   "source": [
    "raw = []\n",
    "for subj in subjList:\n",
    "    tmp = data_loader(subj)\n",
    "    if len(tmp.useRuns) > 0:\n",
    "        raw.append(tmp.concatRun_info())\n",
    "raw = pd.concat(raw).reset_index(drop=True)"
   ]
  },
  {
   "cell_type": "code",
   "execution_count": 163,
   "id": "4403c99a-31bf-498e-9d56-d9c86d42cbf0",
   "metadata": {},
   "outputs": [
    {
     "data": {
      "text/plain": [
       "['RUN1', 'RUN2', 'RUN3', 'RUN4', 'RUN5', 'RUN6', 'RUN7', 'RUN8']"
      ]
     },
     "execution_count": 163,
     "metadata": {},
     "output_type": "execute_result"
    }
   ],
   "source": [
    "data_loader(628).useRuns"
   ]
  },
  {
   "cell_type": "markdown",
   "id": "84a672ca-22dd-4f58-82f1-1fd02c114fc4",
   "metadata": {},
   "source": [
    "# Remove motion excluded runs"
   ]
  },
  {
   "cell_type": "code",
   "execution_count": 120,
   "id": "06c5f173-a276-4e56-bef2-21b1ad21a5f5",
   "metadata": {},
   "outputs": [],
   "source": [
    "exclude = pd.read_csv(\"~/ABA/bswift/scripts/first_level/runs_to_exclude.txt\", header = 0, sep ='\\t')\n",
    "exclude = exclude[exclude['Reason'] == 'motion']"
   ]
  },
  {
   "cell_type": "code",
   "execution_count": 134,
   "id": "04d0c6c1-2cce-42f3-9c70-36d71fa2cff2",
   "metadata": {},
   "outputs": [
    {
     "name": "stdout",
     "output_type": "stream",
     "text": [
      "For ABA600, RUN1: Last tiral is removed due to incompletion\n",
      "For ABA600, RUN2: Last tiral is removed due to incompletion\n",
      "For ABA600, RUN3: Last tiral is removed due to incompletion\n",
      "For ABA600, RUN6: Last tiral is removed due to incompletion\n",
      "For ABA600, RUN7: Last tiral is removed due to incompletion\n",
      "For ABA600, RUN8: Last tiral is removed due to incompletion\n",
      "For ABA601, RUN3: Last tiral is removed due to incompletion\n",
      "For ABA601, RUN4: Last tiral is removed due to incompletion\n",
      "For ABA601, RUN7: Last tiral is removed due to incompletion\n",
      "For ABA601, RUN8: Last tiral is removed due to incompletion\n",
      "Caution: behavioral log is longer than scan for ABA601: 1\n",
      "Caution: behavioral log is longer than scan for ABA601: 5\n",
      "For ABA628, RUN6: Last tiral is removed due to incompletion\n"
     ]
    }
   ],
   "source": [
    "df = []\n",
    "for subj in subjList:\n",
    "    if subj not in ['605', '629', '678', '694']:\n",
    "        if 'ABA{0}'.format(subj) in exclude['Subject'].unique():\n",
    "            excludeRuns = exclude[exclude['Subject'] == 'ABA'+subj]['Run'].tolist()\n",
    "            tmp = data_loader(subj, excludeRuns=excludeRuns)\n",
    "        else:\n",
    "            tmp = data_loader(subj)\n",
    "        if len(tmp.useRuns) > 0:\n",
    "            tmp_df = tmp.concatRun_info()\n",
    "            tmp.write_regressor('stimtimes_4_conds_Realigned_end_reducedRuns', 'feedback', \n",
    "                                cond8List, align='start', df=tmp_df)\n",
    "            tmp.write_regressor('stimtimes_4_conds_Realigned_end_reducedRuns', 'play', \n",
    "                                cond4List, align='end', df=tmp_df)\n",
    "            tmp.write_rest('stimtimes_4_conds_Realigned_end_reducedRuns', df=tmp_df)\n",
    "            df.append(tmp_df)\n",
    "    else:\n",
    "        continue\n",
    "df = pd.concat(df).reset_index(drop=True)"
   ]
  },
  {
   "cell_type": "code",
   "execution_count": 146,
   "id": "883a8e3c-9406-47ff-9eb7-02e115533327",
   "metadata": {},
   "outputs": [],
   "source": [
    "x = data_loader(605).run_info('RUN1')"
   ]
  },
  {
   "cell_type": "code",
   "execution_count": 147,
   "id": "003f63da-aa96-47a2-ba36-8fb863da0fa0",
   "metadata": {},
   "outputs": [
    {
     "data": {
      "image/png": "[encoded data removed]",
      "text/plain": [
       "<Figure size 1152x288 with 1 Axes>"
      ]
     },
     "metadata": {
      "filenames": {
       "image/png": "/home/govindas/explainable-ai/_build/jupyter_execute/nb/apr22/00-behavioral_11_0.png"
      },
      "needs_background": "light"
     },
     "output_type": "display_data"
    }
   ],
   "source": [
    "fig, ax = plt.subplots(figsize=(16, 4))\n",
    "ax.plot(xx, yy)\n",
    "for tri in x['Trial'].unique():\n",
    "    tmp = x[x['Trial'] == tri]\n",
    "    ax.axvspan(tmp['play_start'].values[0], tmp['play_end'].values[0], alpha=0.3, color='red')\n",
    "    ax.axvspan(tmp['isi_start'].values[0], tmp['isi_end'].values[0], alpha=0.3, color='grey')\n",
    "    ax.axvspan(tmp['iti_start'].values[0], tmp['iti_end'].values[0], alpha=0.3, color='grey')\n",
    "    ax.axvspan(tmp['feedback_start'].values[0], tmp['feedback_end'].values[0], alpha=0.3, color='black')"
   ]
  },
  {
   "cell_type": "code",
   "execution_count": 148,
   "id": "97c555e4-c6dd-439e-bd43-9f5d7fa0cd5e",
   "metadata": {},
   "outputs": [],
   "source": [
    "x = data_loader(677).run_info('RUN3')\n",
    "yy = [np.float64(i) for i in re.split(r\"\\s|\\[|\\]|\\n\", y[y['Subject'] == 'ABA677']['FD'].tolist()[0]) if i != '']\n",
    "xx = np.arange(0, len(yy))*1.25"
   ]
  },
  {
   "cell_type": "code",
   "execution_count": 149,
   "id": "5f1eb863-f1e2-4cba-b15f-959c87cc0a2e",
   "metadata": {},
   "outputs": [
    {
     "data": {
      "image/png": "[encoded data removed]",
      "text/plain": [
       "<Figure size 1152x288 with 1 Axes>"
      ]
     },
     "metadata": {
      "filenames": {
       "image/png": "/home/govindas/explainable-ai/_build/jupyter_execute/nb/apr22/00-behavioral_13_0.png"
      },
      "needs_background": "light"
     },
     "output_type": "display_data"
    }
   ],
   "source": [
    "fig, ax = plt.subplots(figsize=(16, 4))\n",
    "ax.plot(xx, yy)\n",
    "for tri in x['Trial'].unique():\n",
    "    tmp = x[x['Trial'] == tri]\n",
    "    ax.axvspan(tmp['play_start'].values[0], tmp['play_end'].values[0], alpha=0.3, color='red')\n",
    "    ax.axvspan(tmp['isi_start'].values[0], tmp['isi_end'].values[0], alpha=0.3, color='grey')\n",
    "    ax.axvspan(tmp['iti_start'].values[0], tmp['iti_end'].values[0], alpha=0.3, color='grey')\n",
    "    ax.axvspan(tmp['feedback_start'].values[0], tmp['feedback_end'].values[0], alpha=0.3, color='black')"
   ]
  }
 ],
 "metadata": {
  "kernelspec": {
   "display_name": "Python 3 (ipykernel)",
   "language": "python",
   "name": "python3"
  },
  "language_info": {
   "codemirror_mode": {
    "name": "ipython",
    "version": 3
   },
   "file_extension": ".py",
   "mimetype": "text/x-python",
   "name": "python",
   "nbconvert_exporter": "python",
   "pygments_lexer": "ipython3",
   "version": "3.6.9"
  }
 },
 "nbformat": 4,
 "nbformat_minor": 5
}