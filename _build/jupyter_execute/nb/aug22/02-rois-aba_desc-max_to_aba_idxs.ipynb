{
 "cells": [
  {
   "cell_type": "markdown",
   "metadata": {},
   "source": [
    "# August 10, 2022: generate trial level responses of MAX data for ABA rois"
   ]
  },
  {
   "cell_type": "code",
   "execution_count": 1,
   "metadata": {},
   "outputs": [
    {
     "name": "stderr",
     "output_type": "stream",
     "text": [
      "/home/govindas/venvs/expln-ai3.9/lib/python3.9/site-packages/nilearn/input_data/__init__.py:27: FutureWarning: The import path 'nilearn.input_data' is deprecated in version 0.9. Importing from 'nilearn.input_data' will be possible at least until release 0.13.0. Please import from 'nilearn.maskers' instead.\n",
      "  warnings.warn(message, FutureWarning)\n"
     ]
    }
   ],
   "source": [
    "import os \n",
    "import sys\n",
    "from os.path import join as pjoin\n",
    "import numpy as np\n",
    "import pandas as pd\n",
    "from tqdm.notebook import tqdm\n",
    "import pickle, random\n",
    "\n",
    "from nltools import mask\n",
    "from nilearn import image, masking\n",
    "\n",
    "# plotting\n",
    "import matplotlib.pyplot as plt\n",
    "plt.rcParamsDefault['font.family'] = \"sans-serif\"\n",
    "plt.rcParamsDefault['font.sans-serif'] = \"Arial\"\n",
    "plt.rcParams['font.size'] = 14\n",
    "plt.rcParams[\"errorbar.capsize\"] = 0.5\n",
    "\n",
    "import cmasher as cmr #CITE ITS PAPER IN YOUR MANUSCRIPT\n",
    "\n",
    "# main dirs\n",
    "proj_dir = pjoin(os.environ['HOME'], 'network_dynamics')\n",
    "results_dir = f\"{proj_dir}/results\"\n",
    "month_dir = f\"{proj_dir}/nb/aug22\"\n",
    "\n",
    "# folders\n",
    "sys.path.insert(0, proj_dir)\n",
    "import helpers.dataset_utils as dataset_utils"
   ]
  },
  {
   "cell_type": "markdown",
   "metadata": {},
   "source": [
    "## MAX rois"
   ]
  },
  {
   "cell_type": "code",
   "execution_count": 2,
   "metadata": {},
   "outputs": [
    {
     "data": {
      "text/plain": [
       "['R med. OFC',\n",
       " 'L med. OFC',\n",
       " 'R lat. OFC',\n",
       " 'L lat. OFC',\n",
       " 'M vmPFC1',\n",
       " 'M vmPFC2',\n",
       " 'R dlPFC',\n",
       " 'L dlPFC',\n",
       " 'R FEF',\n",
       " 'L FEF',\n",
       " 'R pregenual ACC',\n",
       " 'L pregenual ACC',\n",
       " 'R ACC',\n",
       " 'L ACC',\n",
       " 'R ant. MCC',\n",
       " 'L ant. MCC',\n",
       " 'R post. MCC',\n",
       " 'L post. MCC',\n",
       " 'R pre-SMA',\n",
       " 'L pre-SMA',\n",
       " 'M PCC',\n",
       " 'R PCC/precuneus',\n",
       " 'L PCC/precuneus',\n",
       " 'R PCC',\n",
       " 'L PCC',\n",
       " 'R Ventral striatum',\n",
       " 'L Ventral striatum',\n",
       " 'R ant. Putamen',\n",
       " 'L ant. Putamen',\n",
       " 'R post. Putamen',\n",
       " 'L post. Putamen',\n",
       " 'R ant. Caudate',\n",
       " 'L ant. Caudate',\n",
       " 'R post. Caudate',\n",
       " 'L post. Caudate',\n",
       " 'R IFG-1',\n",
       " 'L IFG-1',\n",
       " 'R IFG-2',\n",
       " 'L IFG-2',\n",
       " 'R IFG-3',\n",
       " 'L IFG-3',\n",
       " 'R IFG-4',\n",
       " 'L IFG-4',\n",
       " 'R IFG-5',\n",
       " 'L IFG-5',\n",
       " 'R IFG-6',\n",
       " 'L IFG-6',\n",
       " 'R ant. ventral Insula',\n",
       " 'L ant. ventral Insula',\n",
       " 'R ant. dorsal Insula',\n",
       " 'L ant. dorsal Insula',\n",
       " 'R mid/post Insula',\n",
       " 'L mid/post Insula',\n",
       " 'R BST',\n",
       " 'L BST',\n",
       " 'R CeMe Amygdala',\n",
       " 'L CeMe Amygdala',\n",
       " 'R BLBM Amygdala',\n",
       " 'L BLBM Amygdala',\n",
       " 'R ant. Hippocampus',\n",
       " 'L ant. Hippocampus',\n",
       " 'R Hippocampus body',\n",
       " 'L Hippocampus body',\n",
       " 'R Hippocampus tail',\n",
       " 'L Hippocampus tail',\n",
       " 'R Hypothalamus',\n",
       " 'L Hypothalamus',\n",
       " 'R v ant/sup Thalamus',\n",
       " 'L v ant/sup Thalamus',\n",
       " 'R v ant/inf Thalamus',\n",
       " 'L v ant/inf Thalamus',\n",
       " 'R v lat/post Thalamus',\n",
       " 'L v lat/post Thalamus',\n",
       " 'R v med/post Thalamus',\n",
       " 'L  v med/post Thalamus',\n",
       " 'R d ant/lat Thalamus',\n",
       " 'L  d ant/lat Thalamus',\n",
       " 'R d ant/med Thalamus',\n",
       " 'L  d ant/med Thalamus',\n",
       " 'R PAG',\n",
       " 'L PAG',\n",
       " 'R CrusI-shackman',\n",
       " 'L CrusI-shackman',\n",
       " 'R CrusI-krienen',\n",
       " 'L CrusI-krienen']"
      ]
     },
     "execution_count": 2,
     "metadata": {},
     "output_type": "execute_result"
    }
   ],
   "source": [
    "max_roi_name_file = (\n",
    "    f\"{os.environ['HOME']}/parcellations/MAX_85_ROI_masks/ROI_names.txt\"\n",
    ")\n",
    "max_roi_names = pd.read_csv(max_roi_name_file, names=['roi_name']).values.squeeze()\n",
    "max_roi_names = list(max_roi_names)\n",
    "max_roi_names"
   ]
  },
  {
   "cell_type": "code",
   "execution_count": 3,
   "metadata": {},
   "outputs": [],
   "source": [
    "class ARGS(): pass\n",
    "args = ARGS()\n",
    "\n",
    "with open(f\"{proj_dir}/data/max/exploratory_data_roi_indices.pkl\", 'rb') as f:\n",
    "    args.up_roi_idxs, args.down_roi_idxs, args.roi_idxs = pickle.load(f)\n",
    "    args.num_rois = len(args.roi_idxs)"
   ]
  },
  {
   "cell_type": "markdown",
   "metadata": {},
   "source": [
    "## ABA rois"
   ]
  },
  {
   "cell_type": "code",
   "execution_count": 4,
   "metadata": {},
   "outputs": [
    {
     "data": {
      "text/plain": [
       "['R Hypothalamus',\n",
       " 'L Hypothalamus',\n",
       " 'R ACC',\n",
       " 'L ACC',\n",
       " 'R ant. MCC',\n",
       " 'L ant. MCC',\n",
       " 'R post. MCC',\n",
       " 'L post. MCC',\n",
       " 'R PCC',\n",
       " 'L PCC',\n",
       " 'R Ventral striatum',\n",
       " 'L Ventral striatum',\n",
       " 'R IFG-5',\n",
       " 'L IFG-5',\n",
       " 'R ant. ventral Insula',\n",
       " 'L ant. ventral Insula',\n",
       " 'R ant. dorsal Insula',\n",
       " 'L ant. dorsal Insula',\n",
       " 'R mid/post Insula',\n",
       " 'L mid/post Insula',\n",
       " 'R BST',\n",
       " 'L BST',\n",
       " 'R CeMe Amygdala',\n",
       " 'L CeMe Amygdala',\n",
       " 'R BLBM Amygdala',\n",
       " 'L BLBM Amygdala',\n",
       " 'R ant. Hippocampus',\n",
       " 'L ant. Hippocampus',\n",
       " 'R PAG',\n",
       " 'L PAG',\n",
       " 'R Pulvinar',\n",
       " 'L Pulvinar',\n",
       " 'R VTA-SNc',\n",
       " 'L VTA-SNc',\n",
       " 'Ant. vmPFC',\n",
       " 'Post. vmPFC']"
      ]
     },
     "execution_count": 4,
     "metadata": {},
     "output_type": "execute_result"
    }
   ],
   "source": [
    "set_name = 'aba'\n",
    "aba_roi_name_file = (\n",
    "    f\"/home/govindas/vscode-BSWIFT-mnt/ABA/ROI_mask/ABA_36ROIs_gm.txt\"\n",
    ")\n",
    "aba_roi_names =  pd.read_csv(\n",
    "    aba_roi_name_file,\n",
    "    delimiter='\\t'\n",
    ")[['sHemi', 'ROI']]\n",
    "aba_roi_names = (aba_roi_names['sHemi'] + ' ' + aba_roi_names['ROI']).values\n",
    "aba_roi_names = list(aba_roi_names)\n",
    "aba_roi_names"
   ]
  },
  {
   "cell_type": "markdown",
   "metadata": {},
   "source": [
    "34 out of 36 ABA rois are taken from the MAX rois, and two rois are added: Pulvinar and VTA-SNc."
   ]
  },
  {
   "cell_type": "markdown",
   "metadata": {},
   "source": [
    "## ABA to MAX"
   ]
  },
  {
   "cell_type": "code",
   "execution_count": 5,
   "metadata": {},
   "outputs": [
    {
     "data": {
      "text/plain": [
       "{0: 65,\n",
       " 1: 66,\n",
       " 2: 12,\n",
       " 3: 13,\n",
       " 4: 14,\n",
       " 5: 15,\n",
       " 6: 16,\n",
       " 7: 17,\n",
       " 8: 23,\n",
       " 9: 24,\n",
       " 10: 25,\n",
       " 11: 26,\n",
       " 12: 43,\n",
       " 13: 44,\n",
       " 14: 47,\n",
       " 15: 48,\n",
       " 16: 49,\n",
       " 17: 50,\n",
       " 18: 51,\n",
       " 19: 52,\n",
       " 20: 53,\n",
       " 21: 54,\n",
       " 22: 55,\n",
       " 23: 56,\n",
       " 24: 57,\n",
       " 25: 58,\n",
       " 26: 59,\n",
       " 27: 60,\n",
       " 28: 79,\n",
       " 29: 80,\n",
       " 30: None,\n",
       " 31: None,\n",
       " 32: None,\n",
       " 33: None,\n",
       " 34: 4,\n",
       " 35: 5}"
      ]
     },
     "metadata": {},
     "output_type": "display_data"
    },
    {
     "data": {
      "text/plain": [
       "{65: 0,\n",
       " 66: 1,\n",
       " 12: 2,\n",
       " 13: 3,\n",
       " 14: 4,\n",
       " 15: 5,\n",
       " 16: 6,\n",
       " 17: 7,\n",
       " 23: 8,\n",
       " 24: 9,\n",
       " 25: 10,\n",
       " 26: 11,\n",
       " 43: 12,\n",
       " 44: 13,\n",
       " 47: 14,\n",
       " 48: 15,\n",
       " 49: 16,\n",
       " 50: 17,\n",
       " 51: 18,\n",
       " 52: 19,\n",
       " 53: 20,\n",
       " 54: 21,\n",
       " 55: 22,\n",
       " 56: 23,\n",
       " 57: 24,\n",
       " 58: 25,\n",
       " 59: 26,\n",
       " 60: 27,\n",
       " 79: 28,\n",
       " 80: 29,\n",
       " None: 33,\n",
       " 4: 34,\n",
       " 5: 35}"
      ]
     },
     "metadata": {},
     "output_type": "display_data"
    }
   ],
   "source": [
    "'''\n",
    "map aba onto max\n",
    "'''\n",
    "# for 33 rois\n",
    "aba_to_max_idxs = {\n",
    "    aba_idx:max_roi_names.index(aba_roi) \n",
    "    for aba_idx, aba_roi in enumerate(aba_roi_names) \n",
    "    if aba_roi in max_roi_names\n",
    "}\n",
    "# for the two additional rois\n",
    "for aba_roi_idx in range(30, 34):\n",
    "    aba_to_max_idxs[aba_roi_idx] = None\n",
    "# for vmPFC\n",
    "aba_to_max_idxs[34] = 4\n",
    "aba_to_max_idxs[35] = 5\n",
    "\n",
    "display(aba_to_max_idxs)\n",
    "\n",
    "'''\n",
    "map max to aba\n",
    "'''\n",
    "max_to_aba_idxs = {\n",
    "    v:k for k, v in aba_to_max_idxs.items()\n",
    "}\n",
    "display(max_to_aba_idxs)"
   ]
  },
  {
   "cell_type": "code",
   "execution_count": 6,
   "metadata": {},
   "outputs": [
    {
     "name": "stdout",
     "output_type": "stream",
     "text": [
      "2\n",
      "3\n",
      "4\n",
      "5\n",
      "6\n",
      "7\n",
      "14\n",
      "15\n",
      "16\n",
      "17\n",
      "20\n",
      "21\n",
      "28\n",
      "29\n"
     ]
    }
   ],
   "source": [
    "for max_roi in args.up_roi_idxs:\n",
    "    if max_roi not in max_to_aba_idxs.keys(): continue\n",
    "    print(max_to_aba_idxs[max_roi])"
   ]
  },
  {
   "cell_type": "code",
   "execution_count": 7,
   "metadata": {},
   "outputs": [],
   "source": [
    "'''\n",
    "group aba rois separately from max and save the grouping\n",
    "'''\n",
    "args.up_roi_idxs = np.array(\n",
    "    [2, 3] + # ACC\n",
    "    list(range(4, 8)) + # MCC\n",
    "    [12, 13] + # IFG-5\n",
    "    list(range(14, 20)) + # insula\n",
    "    [20, 21] + # BST\n",
    "    [30, 31] # Pulvinar\n",
    ")\n",
    "\n",
    "args.down_roi_idxs = np.array(\n",
    "    [8, 9] + # PCC\n",
    "    [26, 27] + # ant. Hippocampus\n",
    "    [34, 35] # vmPFC\n",
    ")\n",
    "\n",
    "args.zero_roi_idxs = np.array(\n",
    "    [0, 1] + # Hypothalamus\n",
    "    [10, 11] + # ventral striatum\n",
    "    list(range(22, 26)) + # amygdala\n",
    "    [28, 29] + # PAG\n",
    "    [32, 33] # VTA-SNc\n",
    ")\n",
    "\n",
    "args.roi_idxs = np.concatenate([args.up_roi_idxs, args.zero_roi_idxs, args.down_roi_idxs])"
   ]
  },
  {
   "cell_type": "code",
   "execution_count": 9,
   "metadata": {},
   "outputs": [
    {
     "data": {
      "text/plain": [
       "36"
      ]
     },
     "execution_count": 9,
     "metadata": {},
     "output_type": "execute_result"
    }
   ],
   "source": [
    "len(args.roi_idxs)"
   ]
  },
  {
   "cell_type": "code",
   "execution_count": 8,
   "metadata": {},
   "outputs": [],
   "source": [
    "with open(f\"{proj_dir}/data/max/exploratory_data_aba_roi_indices.pkl\", 'wb') as f:\n",
    "    pickle.dump([args.up_roi_idxs, args.down_roi_idxs, args.zero_roi_idxs, args.roi_idxs], f)"
   ]
  }
 ],
 "metadata": {
  "kernelspec": {
   "display_name": "Python 3.9.10 ('expln-ai3.9': venv)",
   "language": "python",
   "name": "python3"
  },
  "language_info": {
   "codemirror_mode": {
    "name": "ipython",
    "version": 3
   },
   "file_extension": ".py",
   "mimetype": "text/x-python",
   "name": "python",
   "nbconvert_exporter": "python",
   "pygments_lexer": "ipython3",
   "version": "3.9.10"
  },
  "vscode": {
   "interpreter": {
    "hash": "3b5cb7249c2b05c08ddca5a7278173987b98c572958faaa00b04c99c3e034fdc"
   }
  }
 },
 "nbformat": 4,
 "nbformat_minor": 2
}