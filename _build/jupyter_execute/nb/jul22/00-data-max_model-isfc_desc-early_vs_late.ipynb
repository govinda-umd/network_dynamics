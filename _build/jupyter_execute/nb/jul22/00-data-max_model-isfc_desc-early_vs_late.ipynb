{
 "cells": [
  {
   "cell_type": "markdown",
   "metadata": {},
   "source": [
    "# July 4-5, 2022: Compute Intersubject Functional Correlation (ISFC) values for `early` and `late` periods in `threat` and `safe` conditions"
   ]
  },
  {
   "cell_type": "code",
   "execution_count": 1,
   "metadata": {},
   "outputs": [],
   "source": [
    "import os\n",
    "import sys\n",
    "from os.path import join as pjoin\n",
    "\n",
    "import numpy as np\n",
    "import pandas as pd\n",
    "import pickle, random\n",
    "from tqdm import tqdm\n",
    "from scipy.stats import norm, zscore\n",
    "\n",
    "# ISC\n",
    "from brainiak.isc import (isc, isfc, bootstrap_isc, compute_summary_statistic, squareform_isfc)\n",
    "from statsmodels.stats.multitest import multipletests\n",
    "from scipy.spatial.distance import squareform\n",
    "\n",
    "# plotting\n",
    "import matplotlib.pyplot as plt\n",
    "plt.rcParamsDefault['font.family'] = \"sans-serif\"\n",
    "plt.rcParamsDefault['font.sans-serif'] = \"Arial\"\n",
    "plt.rcParams['font.size'] = 14\n",
    "plt.rcParams[\"errorbar.capsize\"] = 0.5\n",
    "\n",
    "# main dirs\n",
    "proj_dir = pjoin(os.environ['HOME'], 'network_dynamics')\n",
    "results_dir = f\"{proj_dir}/results\"\n",
    "month_dir = f\"{proj_dir}/nb/jun22\"\n",
    "\n",
    "# folders\n",
    "sys.path.insert(0, proj_dir)\n",
    "# import helpers.dataset_utils as dataset_utils"
   ]
  },
  {
   "cell_type": "code",
   "execution_count": 2,
   "metadata": {},
   "outputs": [],
   "source": [
    "'''\n",
    "exploratory data\n",
    "'''\n",
    "class ARGS(): pass\n",
    "args = ARGS()\n",
    "\n",
    "args.SEED = 74\n",
    "args.LABELS = [0, 1]\n",
    "args.NAMES = ['safe', 'threat']\n",
    "args.MASK = -100\n",
    "\n",
    "num_rois = 85\n",
    "args.roi_idxs = np.arange(num_rois)\n",
    "\n",
    "with open(f\"{proj_dir}/data/max/exploratory_data.pkl\", 'rb') as f:\n",
    "    X = pickle.load(f)"
   ]
  },
  {
   "cell_type": "code",
   "execution_count": 3,
   "metadata": {},
   "outputs": [],
   "source": [
    "'''\n",
    "find minimum number of trials across subjects\n",
    "'''\n",
    "min_trials = []\n",
    "for label in args.LABELS:\n",
    "    min_trials += [x.shape[0] for x in X[label]]\n",
    "min_trials = min(min_trials)\n",
    "\n",
    "ts = {}\n",
    "for label, name in zip(args.LABELS, args.NAMES):\n",
    "    ts[name] = []\n",
    "    for x in X[label]:\n",
    "        trl, t, r = x.shape\n",
    "        x = np.reshape(x[:min_trials, ...], (min_trials*t, r))\n",
    "        ts[name].append(zscore(x, axis=0))"
   ]
  },
  {
   "cell_type": "markdown",
   "metadata": {},
   "source": [
    "## Following the pipeline in ISC tutorial\n",
    "Paper: https://academic.oup.com/scan/article/14/6/667/5489905\n",
    "Tutorial: https://github.com/snastase/isc-tutorial\n",
    "\n",
    "Statistical significance was assessed by a nonparametric bootstrap hypothesis test resampling left-out subjects and corrected for multiple tests by controlling FDR at .05.\n",
    "\n",
    "i.e.:\n",
    "1. Compute leave-one-out (LOO) ISC values\n",
    "2. Bootstrap hypothesis testing, (Chen et al.2016)\n",
    "3. Multiple tests correction: False Discovery Rate (FDR) at 0.05.\n",
    "\n",
    "LOO method relates to computing ISFC values, as the mean time series of the remaining subjects converges to the common signal across subjects."
   ]
  },
  {
   "cell_type": "markdown",
   "metadata": {},
   "source": [
    "## `early` and `late` periods "
   ]
  },
  {
   "cell_type": "code",
   "execution_count": 4,
   "metadata": {},
   "outputs": [],
   "source": [
    "def get_isfc_significant_rois(args, ts):\n",
    "    corrs = {}; bootstraps = {}; q = {}; z = {}; rois = {}\n",
    "    observed_isfcs = {}; observed_q_vals = {}; significant_rois = {}; conf_intervals = {}\n",
    "\n",
    "    for block in ts.keys():\n",
    "        isfcs, iscs = isfc(\n",
    "            ts[block], \n",
    "            pairwise=args.pairwise, \n",
    "            vectorize_isfcs=args.vectorize_isfcs\n",
    "        )\n",
    "        corrs[block] = {'isfcs':isfcs, 'iscs':iscs}\n",
    "\n",
    "        bootstraps[block] = {}\n",
    "        q[block] = {}\n",
    "        z[block] = {}\n",
    "        rois[block] = {}\n",
    "        for corr_name in args.CORR_NAMES:\n",
    "            \n",
    "            # permutation test\n",
    "            observed, ci, p, distribution = bootstrap_isc(\n",
    "                corrs[block][corr_name], \n",
    "                pairwise=args.pairwise, \n",
    "                ci_percentile=95, \n",
    "                summary_statistic='median',\n",
    "                n_bootstraps=args.n_bootstraps\n",
    "            )\n",
    "            bootstraps[block][corr_name] = observed, ci, p, distribution\n",
    "\n",
    "            # multiple tests correction\n",
    "            q[block][corr_name] = multipletests(bootstraps[block][corr_name][2], method='fdr_by')[1]\n",
    "            z[block][corr_name] = np.abs(norm.ppf(q[block][corr_name]))\n",
    "\n",
    "            # surviving rois\n",
    "            rois[block][corr_name] = q[block][corr_name] < 0.05\n",
    "            print(\n",
    "                (\n",
    "                    f\"percent of significant roi(-pairs) for \" \n",
    "                    f\"condition {block} and correlation {corr_name[:-1]} = \" \n",
    "                    f\"{100. * np.sum(rois[block][corr_name]) / len(rois[block][corr_name])} %\"\n",
    "                )\n",
    "            )\n",
    "\n",
    "        # isfc matrix\n",
    "        observed_isfcs[block] = squareform_isfc(bootstraps[block]['isfcs'][0], bootstraps[block]['iscs'][0])\n",
    "        observed_q_vals[block] = squareform_isfc(q[block]['isfcs'], q[block]['iscs'])\n",
    "        significant_rois[block] = squareform_isfc(rois[block]['isfcs'], rois[block]['iscs'])\n",
    "        conf_intervals[block] = (\n",
    "            squareform_isfc(\n",
    "                bootstraps[block]['isfcs'][1][0],\n",
    "                bootstraps[block]['iscs'][1][0]\n",
    "            ),\n",
    "            squareform_isfc(\n",
    "                bootstraps[block]['isfcs'][1][1],\n",
    "                bootstraps[block]['iscs'][1][1]\n",
    "            )\n",
    "        ) \n",
    "    \n",
    "    return observed_isfcs, observed_q_vals, significant_rois, conf_intervals"
   ]
  },
  {
   "cell_type": "code",
   "execution_count": 5,
   "metadata": {},
   "outputs": [],
   "source": [
    "def plot_iscs(args, iscs, rois):\n",
    "    nrows, ncols = len(args.LABELS), len(args.PERIODS)\n",
    "    fig, axs = plt.subplots(\n",
    "        nrows=nrows, \n",
    "        ncols=ncols, \n",
    "        figsize=(10*ncols, 4*nrows), \n",
    "        sharex=True, \n",
    "        sharey=True, \n",
    "        dpi=120\n",
    "    )\n",
    "\n",
    "    for label, name in zip(args.LABELS, args.NAMES):\n",
    "        for idx_period, period in enumerate(args.PERIODS):\n",
    "            ax = axs[label, idx_period]\n",
    "            block = f\"{name}_{period}\"\n",
    "\n",
    "            mn = np.mean(iscs[block], axis=0)\n",
    "            st = np.std(iscs[block], axis=0) / np.sqrt(len(iscs[block]))\n",
    "            ax.plot(mn, label='mean')\n",
    "            ax.fill_between(\n",
    "                np.arange(st.shape[0]),\n",
    "                (mn - st), (mn + st),\n",
    "                label='ste',\n",
    "                alpha=0.3\n",
    "            )\n",
    "\n",
    "            for r in np.where(rois[block])[1]:\n",
    "                ax.axvline(r, color='purple', alpha=0.3)\n",
    "            \n",
    "            ax.legend()\n",
    "            ax.set_title(f\"{period}\")\n",
    "            ax.set_ylabel(f\"{name}\")\n",
    "            ax.set_xlabel(f\"rois\")\n",
    "    \n",
    "    return None"
   ]
  },
  {
   "cell_type": "code",
   "execution_count": 6,
   "metadata": {},
   "outputs": [],
   "source": [
    "'''\n",
    "time series of early and late periods\n",
    "'''\n",
    "args.PERIODS = ['early', 'late']\n",
    "# time periods\n",
    "args.TR = 1.25 #seconds\n",
    "EARLY = np.arange(2.5, 8.75+args.TR, args.TR) // args.TR\n",
    "LATE = np.arange(10.0, 16.25+args.TR, args.TR) // args.TR\n",
    "EARLY = EARLY.astype(int)\n",
    "LATE = LATE.astype(int)\n",
    "args.PERIOD_TRS = [EARLY, LATE]\n",
    "\n",
    "ts = {}\n",
    "for label, name in zip(args.LABELS, args.NAMES):\n",
    "    for idx_period, (period, TRs) in enumerate(zip(args.PERIODS, args.PERIOD_TRS)):\n",
    "        ts[f\"{name}_{period}\"] = []\n",
    "        for x in X[label]:\n",
    "            x = x[:, args.PERIOD_TRS[idx_period], :]\n",
    "            trl, t, r = x.shape\n",
    "            x = np.reshape(x[:min_trials, ...], (min_trials*t, r))\n",
    "            ts[f\"{name}_{period}\"] += [zscore(x, axis=0)]"
   ]
  },
  {
   "cell_type": "code",
   "execution_count": 7,
   "metadata": {},
   "outputs": [
    {
     "name": "stdout",
     "output_type": "stream",
     "text": [
      "percent of significant roi(-pairs) for condition safe_early and correlation isfc = 0.0 %\n",
      "percent of significant roi(-pairs) for condition safe_early and correlation isc = 0.0 %\n",
      "percent of significant roi(-pairs) for condition safe_late and correlation isfc = 0.0 %\n",
      "percent of significant roi(-pairs) for condition safe_late and correlation isc = 0.0 %\n",
      "percent of significant roi(-pairs) for condition threat_early and correlation isfc = 0.0 %\n",
      "percent of significant roi(-pairs) for condition threat_early and correlation isc = 14.117647058823529 %\n",
      "percent of significant roi(-pairs) for condition threat_late and correlation isfc = 19.971988795518207 %\n",
      "percent of significant roi(-pairs) for condition threat_late and correlation isc = 25.88235294117647 %\n"
     ]
    }
   ],
   "source": [
    "'''\n",
    "ISFC\n",
    "leave-one-out\n",
    "bootstrap\n",
    "'''\n",
    "args.CORR_NAMES = ['isfcs', 'iscs']\n",
    "args.pairwise = False\n",
    "args.vectorize_isfcs = True\n",
    "args.n_bootstraps = 1000\n",
    "\n",
    "isfcs, qs, rois, cis = get_isfc_significant_rois(args, ts)"
   ]
  },
  {
   "cell_type": "code",
   "execution_count": 8,
   "metadata": {},
   "outputs": [
    {
     "ename": "NameError",
     "evalue": "name 'obs_isfc' is not defined",
     "output_type": "error",
     "traceback": [
      "\u001b[0;31m---------------------------------------------------------------------------\u001b[0m",
      "\u001b[0;31mNameError\u001b[0m                                 Traceback (most recent call last)",
      "\u001b[1;32m/home/govindas/network_dynamics/nb/jul22/00-data-max_model-isfc_desc-early_vs_late.ipynb Cell 11'\u001b[0m in \u001b[0;36m<cell line: 1>\u001b[0;34m()\u001b[0m\n\u001b[0;32m----> <a href='vscode-notebook-cell://ssh-remote%2B129.2.150.11/home/govindas/network_dynamics/nb/jul22/00-data-max_model-isfc_desc-early_vs_late.ipynb#ch0000015vscode-remote?line=0'>1</a>\u001b[0m plt\u001b[39m.\u001b[39mmatshow(obs_isfc, cmap\u001b[39m=\u001b[39m\u001b[39m\"\u001b[39m\u001b[39mRdYlBu_r\u001b[39m\u001b[39m\"\u001b[39m, vmin\u001b[39m=\u001b[39m\u001b[39m-\u001b[39m\u001b[39m1\u001b[39m, vmax\u001b[39m=\u001b[39m\u001b[39m1\u001b[39m)\n\u001b[1;32m      <a href='vscode-notebook-cell://ssh-remote%2B129.2.150.11/home/govindas/network_dynamics/nb/jul22/00-data-max_model-isfc_desc-early_vs_late.ipynb#ch0000015vscode-remote?line=1'>2</a>\u001b[0m ax \u001b[39m=\u001b[39m plt\u001b[39m.\u001b[39mgca()\n\u001b[1;32m      <a href='vscode-notebook-cell://ssh-remote%2B129.2.150.11/home/govindas/network_dynamics/nb/jul22/00-data-max_model-isfc_desc-early_vs_late.ipynb#ch0000015vscode-remote?line=2'>3</a>\u001b[0m plt\u001b[39m.\u001b[39mcolorbar(fraction\u001b[39m=\u001b[39m\u001b[39m0.046\u001b[39m, pad\u001b[39m=\u001b[39m\u001b[39m0.04\u001b[39m)\n",
      "\u001b[0;31mNameError\u001b[0m: name 'obs_isfc' is not defined"
     ]
    }
   ],
   "source": [
    "\n",
    "plt.matshow(obs_isfc, cmap=\"RdYlBu_r\", vmin=-1, vmax=1)\n",
    "ax = plt.gca()\n",
    "plt.colorbar(fraction=0.046, pad=0.04)"
   ]
  }
 ],
 "metadata": {
  "kernelspec": {
   "display_name": "Python 3.9.10 ('expln-ai3.9': venv)",
   "language": "python",
   "name": "python3"
  },
  "language_info": {
   "codemirror_mode": {
    "name": "ipython",
    "version": 3
   },
   "file_extension": ".py",
   "mimetype": "text/x-python",
   "name": "python",
   "nbconvert_exporter": "python",
   "pygments_lexer": "ipython3",
   "version": "3.9.10"
  },
  "vscode": {
   "interpreter": {
    "hash": "3b5cb7249c2b05c08ddca5a7278173987b98c572958faaa00b04c99c3e034fdc"
   }
  }
 },
 "nbformat": 4,
 "nbformat_minor": 2
}