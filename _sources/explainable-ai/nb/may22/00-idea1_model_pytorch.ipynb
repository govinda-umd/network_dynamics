{
 "cells": [
  {
   "cell_type": "markdown",
   "metadata": {},
   "source": [
    "# May 21,24,25, 2022: pytorch implementation of model: idea1"
   ]
  },
  {
   "cell_type": "code",
   "execution_count": 1,
   "metadata": {},
   "outputs": [
    {
     "name": "stdout",
     "output_type": "stream",
     "text": [
      "True\n"
     ]
    }
   ],
   "source": [
    "import os\n",
    "import sys\n",
    "from os.path import join as pjoin\n",
    "\n",
    "import numpy as np\n",
    "import pandas as pd\n",
    "import scipy as sp\n",
    "\n",
    "import torch\n",
    "import torch.nn as nn \n",
    "print(torch.cuda.is_available())\n",
    "\n",
    "import pickle, time, random\n",
    "# import neural_structured_learning as nsl\n",
    "from tqdm import tqdm\n",
    "import json\n",
    "from itertools import combinations, product\n",
    "from operator import add\n",
    "import copy\n",
    "\n",
    "# explanation tools\n",
    "import captum\n",
    "\n",
    "# plotting\n",
    "import matplotlib as mpl\n",
    "import matplotlib.colors as mcolors\n",
    "import matplotlib.pyplot as plt\n",
    "plt.rcParamsDefault['font.family'] = \"sans-serif\"\n",
    "plt.rcParamsDefault['font.sans-serif'] = \"Arial\"\n",
    "plt.rcParams['font.size'] = 14\n",
    "plt.rcParams[\"errorbar.capsize\"] = 0.5\n",
    "\n",
    "import hypernetx as hnx\n",
    "from networkx import fruchterman_reingold_layout as layout\n",
    "\n",
    "# nilearn\n",
    "from nilearn import image\n",
    "from nilearn import masking\n",
    "from nilearn import plotting\n",
    "\n",
    "# main dirs\n",
    "proj_dir = pjoin(os.environ['HOME'], 'explainable-ai')\n",
    "results_dir = f\"{proj_dir}/results\"\n",
    "month_dir = f\"{proj_dir}/nb/may22\"\n",
    "\n",
    "# folders\n",
    "sys.path.insert(0, proj_dir)\n",
    "import helpers.pytorch.dataset_utils as dataset_utils\n",
    "import helpers.pytorch.model_definitions as model_definitions\n",
    "import data.emoprox2.scripts.stimulus_utils as stimulus_utils"
   ]
  },
  {
   "cell_type": "code",
   "execution_count": 2,
   "metadata": {},
   "outputs": [
    {
     "name": "stdout",
     "output_type": "stream",
     "text": [
      "Using cuda device\n"
     ]
    }
   ],
   "source": [
    "device = \"cuda\" if torch.cuda.is_available() else \"cpu\"\n",
    "print(f\"Using {device} device\")"
   ]
  },
  {
   "cell_type": "markdown",
   "metadata": {},
   "source": [
    "## data"
   ]
  },
  {
   "cell_type": "code",
   "execution_count": 3,
   "metadata": {},
   "outputs": [],
   "source": [
    "def get_data(data, subject_list):\n",
    "    X = [] \n",
    "    y = []\n",
    "    global MASK\n",
    "\n",
    "    for subject in subject_list:\n",
    "        X += [torch.FloatTensor(x) for x in data[subject]['X']]\n",
    "        y += [torch.LongTensor(y) for y in (data[subject]['y'])]\n",
    "\n",
    "    X = nn.utils.rnn.pad_sequence(X, batch_first=True, padding_value=MASK)\n",
    "    y = nn.utils.rnn.pad_sequence(y, batch_first=True, padding_value=MASK)\n",
    "\n",
    "    X_len = torch.LongTensor([len(seq) for seq in X])\n",
    "    return X.to(device), y.to(device), X_len.to('cpu')\n",
    "    # return X, y, X_len"
   ]
  },
  {
   "cell_type": "code",
   "execution_count": 4,
   "metadata": {},
   "outputs": [
    {
     "name": "stdout",
     "output_type": "stream",
     "text": [
      "torch.Size([9124, 8, 85]) torch.Size([1030, 8, 85]) torch.Size([10254, 8, 85])\n"
     ]
    }
   ],
   "source": [
    "'''\n",
    "target stimuli\n",
    "'''\n",
    "APPR, RETR = 1, 0\n",
    "MASK = -100\n",
    "\n",
    "data_file = f\"{proj_dir}/data/emoprox2/idea1_data.pkl\"\n",
    "with open(data_file, 'rb') as f:\n",
    "    data = pickle.load(f)\n",
    "\n",
    "'''\n",
    "(hyper)-parameters\n",
    "'''\n",
    "class ARGS(): pass\n",
    "args = ARGS()\n",
    "\n",
    "args.SEED = 74\n",
    "\n",
    "# data args\n",
    "args.num_subjects = len(data.keys())\n",
    "args.num_train = round(0.45 * args.num_subjects)\n",
    "args.num_valid = round(0.05 * args.num_subjects)\n",
    "args.num_test = round(0.5 * args.num_subjects)\n",
    "\n",
    "# model args\n",
    "args.num_units = 32 #16 #32\n",
    "args.num_classes = 2 # for binary classification\n",
    "args.l2 = 1e-2\n",
    "args.dropout = 0.5\n",
    "args.learning_rate = 4e-4\n",
    "\n",
    "args.num_epochs = 50\n",
    "args.validation_split = 0.2\n",
    "args.batch_size = 64\n",
    "\n",
    "args.return_sequences = True\n",
    "\n",
    "'''\n",
    "generate dataset for the model\n",
    "'''\n",
    "subject_list = list(data.keys())\n",
    "random.Random(args.SEED).shuffle(subject_list)\n",
    "\n",
    "train_list = subject_list[:args.num_train]\n",
    "valid_list = subject_list[args.num_train : args.num_train + args.num_valid]\n",
    "test_list = subject_list[args.num_train + args.num_valid:]\n",
    "\n",
    "(X_train, y_train, \n",
    " len_train) = get_data(data, train_list)\n",
    "(X_valid, y_valid, \n",
    " len_valid) = get_data(data, valid_list)\n",
    "(X_test, y_test, \n",
    " len_test) = get_data(data, test_list)\n",
    "\n",
    "print(X_train.shape, X_valid.shape, X_test.shape)\n",
    "\n",
    "args.input_size = X_train.shape[-1]"
   ]
  },
  {
   "cell_type": "markdown",
   "metadata": {},
   "source": [
    "## model and training"
   ]
  },
  {
   "cell_type": "code",
   "execution_count": 5,
   "metadata": {},
   "outputs": [],
   "source": [
    "class GRU_classifier(nn.Module):\n",
    "    def __init__(self, args):\n",
    "        super(GRU_classifier, self).__init__()\n",
    "        self.gru = nn.GRU(\n",
    "            input_size=args.input_size,\n",
    "            hidden_size=args.num_units,\n",
    "            num_layers=1,\n",
    "            batch_first=True,\n",
    "            dropout=args.dropout\n",
    "        )\n",
    "        self.fc = nn.Linear(args.num_units, args.num_classes)\n",
    "\n",
    "    def forward(self, x):\n",
    "        x, _ = self.gru(x)\n",
    "        y = self.fc(x)\n",
    "        return y"
   ]
  },
  {
   "cell_type": "code",
   "execution_count": 6,
   "metadata": {},
   "outputs": [],
   "source": [
    "def accfn(y_true, y_pred):\n",
    "    labels_pred = torch.argmax(y_pred, axis=-1)\n",
    "    mask = (y_true != MASK).bool()\n",
    "    correct = 1-torch.abs(labels_pred[mask] - y_true[mask])\n",
    "    return correct.sum() / len(correct)"
   ]
  },
  {
   "cell_type": "code",
   "execution_count": 7,
   "metadata": {},
   "outputs": [],
   "source": [
    "def train(model, X, y, opt, lossfn, permutation):\n",
    "    epoch_losses = []\n",
    "    epoch_accs = []\n",
    "\n",
    "    model.train()\n",
    "\n",
    "    for i in range(0, X.size()[0], args.batch_size):\n",
    "        indices = permutation[i:i + args.batch_size]\n",
    "        batch_x, batch_y = X[indices], y[indices]\n",
    "\n",
    "        y_pred = model(batch_x,)\n",
    "        loss = lossfn(\n",
    "            y_pred.view(-1, args.num_classes), \n",
    "            batch_y.view(-1)\n",
    "        )\n",
    "\n",
    "        acc = accfn(batch_y, y_pred)\n",
    "\n",
    "        opt.zero_grad()\n",
    "        loss.backward()\n",
    "        opt.step()\n",
    "\n",
    "        epoch_losses += [loss.item()]\n",
    "        epoch_accs += [acc.item()]\n",
    "\n",
    "    return  np.sum(epoch_losses) / len(epoch_losses), np.sum(epoch_accs) / len(epoch_accs)\n",
    "\n",
    "\n",
    "def evaluate(model, X, y, lossfn, permutation):\n",
    "    epoch_losses = []\n",
    "    epoch_accs = []\n",
    "\n",
    "    model.eval()\n",
    "\n",
    "    with torch.no_grad():\n",
    "        for i in range(0, X.size()[0], args.batch_size):\n",
    "            indices = permutation[i:i + args.batch_size]\n",
    "            batch_x, batch_y = X[indices], y[indices]\n",
    "\n",
    "            y_pred = model(batch_x,)\n",
    "            loss = lossfn(\n",
    "                y_pred.view(-1, args.num_classes), \n",
    "                batch_y.view(-1)\n",
    "            )\n",
    "\n",
    "            acc = accfn(batch_y, y_pred)\n",
    "\n",
    "            epoch_losses += [loss.item()]\n",
    "            epoch_accs += [acc.item()]\n",
    "    \n",
    "    return np.sum(epoch_losses) / len(epoch_losses), np.sum(epoch_accs) / len(epoch_accs)"
   ]
  },
  {
   "cell_type": "code",
   "execution_count": 8,
   "metadata": {},
   "outputs": [
    {
     "name": "stderr",
     "output_type": "stream",
     "text": [
      "/home/govindas/venvs/expln-ai3.9/lib/python3.9/site-packages/torch/nn/modules/rnn.py:62: UserWarning: dropout option adds dropout after all but last recurrent layer, so non-zero dropout expects num_layers greater than 1, but got dropout=0.5 and num_layers=1\n",
      "  warnings.warn(\"dropout option adds dropout after all but last \"\n"
     ]
    }
   ],
   "source": [
    "model_file = f\"{results_dir}/emoprox_full_data/models/GRU_classifier_gruunits_{args.num_units}_idea1.pt\"\n",
    "history_file = f\"{results_dir}/emoprox_full_data/models/GRU_classifier_gruunits_{args.num_units}_idea1_history\"\n",
    "\n",
    "model = GRU_classifier(args)\n",
    "lossfn = nn.CrossEntropyLoss(ignore_index=MASK, reduction='mean')\n",
    "opt = torch.optim.Adam(model.parameters())\n",
    "\n",
    "model.to(device)\n",
    "lossfn.to(device)\n",
    "\n",
    "if os.path.exists(model_file):\n",
    "\n",
    "    model.load_state_dict(torch.load(model_file))\n",
    "    with open(history_file, 'rb') as f:\n",
    "        history = pickle.load(f)\n",
    "\n",
    "else:\n",
    "    \n",
    "    permut_train = torch.randperm(X_train.size()[0])\n",
    "    permut_valid = torch.randperm(X_valid.size()[0])\n",
    "\n",
    "    best_valid_loss = float('inf')\n",
    "\n",
    "    train_loss, train_acc = np.zeros(args.num_epochs), np.zeros(args.num_epochs)\n",
    "    valid_loss, valid_acc = np.zeros(args.num_epochs), np.zeros(args.num_epochs)\n",
    "\n",
    "    for epoch in range(args.num_epochs):\n",
    "        train_loss[epoch], train_acc[epoch] = train(model, X_train, y_train, opt, lossfn, permut_train)\n",
    "        valid_loss[epoch], valid_acc[epoch] = evaluate(model, X_valid, y_valid, lossfn, permut_valid)\n",
    "\n",
    "        if valid_loss[epoch] < best_valid_loss:\n",
    "            best_valid_loss = valid_loss[epoch]\n",
    "            torch.save(model.state_dict(), model_file)\n",
    "        \n",
    "        print(f'Epoch: {epoch+1:02}')\n",
    "        print(f'\\tTrain Loss: {train_loss[epoch]:.3f} | Train Acc: {train_acc[epoch]*100:.2f}%')\n",
    "        print(f'\\t Val. Loss: {valid_loss[epoch]:.3f} |  Val. Acc: {valid_acc[epoch]*100:.2f}%')\n",
    "\n",
    "    history = {\n",
    "        'train_loss': train_loss,\n",
    "        'train_acc': train_acc,\n",
    "        'valid_loss': valid_loss,\n",
    "        'valid_acc': valid_acc\n",
    "    }\n",
    "\n",
    "    torch.save(model.state_dict(), model_file)\n",
    "    with open(history_file, 'wb') as f:\n",
    "        pickle.dump(history, f)\n"
   ]
  },
  {
   "cell_type": "code",
   "execution_count": 9,
   "metadata": {},
   "outputs": [
    {
     "data": {
      "image/png": "[encoded data removed]",
      "text/plain": [
       "<Figure size 1650x750 with 2 Axes>"
      ]
     },
     "metadata": {
      "needs_background": "light"
     },
     "output_type": "display_data"
    }
   ],
   "source": [
    "fig, axs = plt.subplots(\n",
    "    nrows=2, ncols=1,\n",
    "    figsize=(11,5),\n",
    "    dpi=150\n",
    ")\n",
    "\n",
    "ax = axs[0]\n",
    "ax.plot(history['train_loss'], color='tomato', linestyle='-.', label='training_loss')\n",
    "ax.plot(history['valid_loss'], color='forestgreen', label='valid_loss')\n",
    "ax.set_ylabel(f\"losses\")\n",
    "ax.set_xlabel(f\"epochs\")\n",
    "ax.legend()\n",
    "ax.grid(True)\n",
    "\n",
    "ax = axs[1]\n",
    "ax.plot(history['train_acc'], color='tomato', linestyle='-.', label='training_acc')\n",
    "ax.plot(history['valid_acc'], color='forestgreen', label='valid_acc')\n",
    "ax.set_ylabel(f\"accuracies\")\n",
    "ax.set_xlabel(f\"epochs\")\n",
    "ax.legend()\n",
    "ax.grid(True)"
   ]
  },
  {
   "cell_type": "markdown",
   "metadata": {},
   "source": [
    "`Overfittting` the training data."
   ]
  },
  {
   "cell_type": "markdown",
   "metadata": {},
   "source": [
    "## interpretation(s)"
   ]
  },
  {
   "cell_type": "code",
   "execution_count": 11,
   "metadata": {},
   "outputs": [],
   "source": [
    "def plot_roi_vec_on_niimg(roi_data, mask):\n",
    "    # create an empty stat img\n",
    "    stat_img_all_rois = image.new_img_like(ref_niimg=mask, \n",
    "                                           data=np.zeros_like(mask.get_fdata()[..., None], \n",
    "                                                              dtype=np.float32), \n",
    "                                           copy_header=True)\n",
    "    \n",
    "    # unmask roi value on all voxels of the roi\n",
    "    for idx_roi in tqdm(np.arange(roi_data.shape[-1])):\n",
    "        mask_roi = image.math_img(f\"img=={idx_roi+1}\", img=mask)\n",
    "        num_voxels = np.where(mask_roi.get_fdata())[0].shape[0]\n",
    "        vox_data = roi_data[:, idx_roi][:, None] @ np.ones(shape=(num_voxels,))[None, :] # time x voxels\n",
    "        stat_img = masking.unmask(vox_data, mask_img=mask_roi)\n",
    "        stat_img_all_rois = image.math_img(f\"img_all+img_roi\", \n",
    "                                           img_all=stat_img_all_rois, \n",
    "                                           img_roi=stat_img)\n",
    "        \n",
    "    return stat_img_all_rois\n",
    "\n",
    "parcellation_file = f\"/home/govindas/parcellations/templates/MAX_ROIs_final_gm_85.nii.gz\"\n",
    "# print(mask_file)\n",
    "parcellation = image.load_img(parcellation_file)"
   ]
  },
  {
   "cell_type": "code",
   "execution_count": 12,
   "metadata": {},
   "outputs": [
    {
     "data": {
      "text/plain": [
       "softmax_model(\n",
       "  (model): GRU_classifier(\n",
       "    (gru): GRU(85, 32, batch_first=True, dropout=0.5)\n",
       "    (fc): Linear(in_features=32, out_features=2, bias=True)\n",
       "  )\n",
       "  (softmax): Softmax(dim=-1)\n",
       ")"
      ]
     },
     "execution_count": 12,
     "metadata": {},
     "output_type": "execute_result"
    }
   ],
   "source": [
    "def forward_func(X):\n",
    "    y_ = nn.functional.softmax(model(X))\n",
    "    return y_.view(-1, args.num_classes)\n",
    "\n",
    "class softmax_model(nn.Module):\n",
    "    def __init__(self, model):\n",
    "        super(softmax_model, self).__init__()\n",
    "        self.model = model\n",
    "        self.softmax = nn.Softmax(dim=-1)\n",
    "    \n",
    "    def forward(self, x):\n",
    "        x = self.model(x)\n",
    "        return self.softmax(x).view(-1, args.num_classes)\n",
    "\n",
    "sf_model = softmax_model(model)\n",
    "sf_model.to(device)"
   ]
  },
  {
   "cell_type": "code",
   "execution_count": 13,
   "metadata": {},
   "outputs": [],
   "source": [
    "from captum.attr import Saliency\n",
    "\n",
    "def saliency_attributes(target_class):\n",
    "    names = ['train', 'test']\n",
    "    inputs, targets = [], []\n",
    "    for (X, y) in zip([X_train, X_test], [y_train, y_test]):\n",
    "        idxs = y[:, 0] == target_class\n",
    "        inputs.append(X[idxs, ...])\n",
    "        targets.append(y[idxs, ...])\n",
    "    \n",
    "    saliency = Saliency(sf_model)\n",
    "    attributions = {}\n",
    "    for name, input, target in zip(names, inputs, targets):\n",
    "        model.train()\n",
    "        model.zero_grad()\n",
    "\n",
    "        attribs = saliency.attribute(\n",
    "            input,\n",
    "            target=target_class,\n",
    "            abs=False,\n",
    "        )\n",
    "\n",
    "        attribs = torch.mul(attribs, (target != MASK)[:, :, None]).cpu().numpy()\n",
    "        attribs = np.ma.masked_where(attribs == 0.0, attribs)\n",
    "        attributions[name] = attribs\n",
    "        \n",
    "    return attributions"
   ]
  },
  {
   "cell_type": "code",
   "execution_count": 14,
   "metadata": {},
   "outputs": [
    {
     "name": "stderr",
     "output_type": "stream",
     "text": [
      "/home/govindas/venvs/expln-ai3.9/lib/python3.9/site-packages/captum/_utils/gradient.py:57: UserWarning: Input Tensor 0 did not already require gradients, required_grads has been set automatically.\n",
      "  warnings.warn(\n"
     ]
    }
   ],
   "source": [
    "attributions = {}\n",
    "for target_class in [APPR, RETR]:\n",
    "    attributions[target_class] = saliency_attributes(target_class)"
   ]
  },
  {
   "cell_type": "code",
   "execution_count": 23,
   "metadata": {},
   "outputs": [
    {
     "name": "stdout",
     "output_type": "stream",
     "text": [
      "torch.Size([9124, 8, 85])\n"
     ]
    },
    {
     "data": {
      "text/plain": [
       "(4091, 8, 85)"
      ]
     },
     "execution_count": 23,
     "metadata": {},
     "output_type": "execute_result"
    }
   ],
   "source": [
    "attributions[APPR]['train'].shape"
   ]
  },
  {
   "cell_type": "code",
   "execution_count": null,
   "metadata": {},
   "outputs": [
    {
     "name": "stderr",
     "output_type": "stream",
     "text": [
      "100%|██████████| 100/100 [00:16<00:00,  6.14it/s]\n",
      "100%|██████████| 100/100 [00:18<00:00,  5.46it/s]\n"
     ]
    }
   ],
   "source": [
    "'''\n",
    "null saliency distribution\n",
    "'''\n",
    "method = 'saliency'\n",
    "num_null = 100\n",
    "for name in ['train', 'test']:\n",
    "    true_mean, null_mean, null_std = {}, {}, {}\n",
    "\n",
    "    true_appr, true_retr = attributions[APPR][name], attributions[RETR][name]\n",
    "    num_appr, num_retr = true_appr.shape[0], true_retr.shape[0]\n",
    "\n",
    "    null_appr, null_retr = [], []\n",
    "    for idx_null in tqdm(np.arange(num_null)):\n",
    "        n_concat = np.ma.concatenate((true_appr.copy(), true_retr.copy()), axis=0)\n",
    "        np.random.shuffle(n_concat)\n",
    "        n_a, n_r = n_concat[:num_appr, ...], n_concat[num_appr:, ...]\n",
    "        null_appr.append(n_a)\n",
    "        null_retr.append(n_r)\n",
    "\n",
    "    null_appr = np.ma.stack(null_appr, axis=-1)\n",
    "    null_retr = np.ma.stack(null_retr, axis=-1)\n",
    "\n",
    "    null_appr_means = np.ma.mean(null_appr, axis=0)\n",
    "    null_retr_means = np.ma.mean(null_retr, axis=0)\n",
    "\n",
    "    null_mean[APPR] = np.ma.mean(null_appr_means, axis=-1) \n",
    "    null_std[APPR] = np.ma.std(null_appr_means, axis=-1) #/np.sqrt(null_appr_means.shape[-1])\n",
    "    null_mean[RETR] = np.ma.mean(null_retr_means, axis=-1) \n",
    "    null_std[RETR] = np.ma.std(null_retr_means, axis=-1) #/np.sqrt(null_retr_means.shape[-1])\n",
    "\n",
    "    true_mean[APPR] = np.ma.mean(true_appr, axis=0)\n",
    "    true_mean[RETR] = np.ma.mean(true_retr, axis=0)\n",
    "\n",
    "    for target_class in [APPR, RETR]:\n",
    "        cond_nifti_file = (\n",
    "            f\"{results_dir}/emoprox_full_data/interpretations\" \n",
    "            f\"/idea1_method-{method}_name-{name}_target_class-{target_class}_true_ts.nii.gz\"\n",
    "        )\n",
    "        if not os.path.exists(cond_nifti_file):\n",
    "            stat_img_all_rois = plot_roi_vec_on_niimg(\n",
    "                roi_data=true_mean[target_class],\n",
    "                mask=parcellation\n",
    "            )\n",
    "            stat_img_all_rois.to_filename(cond_nifti_file)\n",
    "\n",
    "        null_nifti_file = (\n",
    "            f\"{results_dir}/emoprox_full_data/interpretations\"\n",
    "            f\"/idea1_method-{method}_name-{name}_target_class-{target_class}_null_lower_ts.nii.gz\"\n",
    "        )\n",
    "        if not os.path.exists(null_nifti_file):\n",
    "            stat_img_all_rois = plot_roi_vec_on_niimg(\n",
    "                roi_data=null_mean[target_class]-null_std[target_class],\n",
    "                mask=parcellation\n",
    "            )\n",
    "            stat_img_all_rois.to_filename(null_nifti_file)\n",
    "\n",
    "        null_nifti_file = (\n",
    "            f\"{results_dir}/emoprox_full_data/interpretations\"\n",
    "            f\"/idea1_method-{method}_name-{name}_target_class-{target_class}_null_upper_ts.nii.gz\"\n",
    "        )\n",
    "        if not os.path.exists(null_nifti_file):\n",
    "            stat_img_all_rois = plot_roi_vec_on_niimg(\n",
    "                roi_data=null_mean[target_class]+null_std[target_class],\n",
    "                mask=parcellation\n",
    "            )\n",
    "            stat_img_all_rois.to_filename(null_nifti_file)"
   ]
  },
  {
   "cell_type": "code",
   "execution_count": null,
   "metadata": {},
   "outputs": [],
   "source": [
    "# from captum.attr import IntegratedGradients\n",
    "\n",
    "# method = 'IG'\n",
    "# ig = IntegratedGradients(sf_model, multiply_by_inputs=True)\n",
    "\n",
    "# for name, input, target in zip(names, inputs, targets):\n",
    "#     model.train()\n",
    "#     model.zero_grad()\n",
    "    \n",
    "#     cond_nifti_file = (f\"{results_dir}/emoprox_full_data/interpretations\" \n",
    "#                        f\"/idea1_method-{method}_name-{name}_target_class-{target_class}_ts.nii.gz\")\n",
    "#     if not os.path.exists(cond_nifti_file):\n",
    "\n",
    "#         baselines = 0.0\n",
    "#         attribs = ig.attribute(\n",
    "#             input, \n",
    "#             baselines,\n",
    "#             target=target_class,\n",
    "#             n_steps=500,\n",
    "#             internal_batch_size=input.shape[0],\n",
    "#             return_convergence_delta=False\n",
    "#         )\n",
    "\n",
    "#         attribs = torch.mul(attribs, (target != MASK)[:, :, None]).cpu().numpy()\n",
    "#         attribs = np.ma.masked_where(attribs == 0.0, attribs)\n",
    "\n",
    "#         stat_img_all_rois = plot_roi_vec_on_niimg(\n",
    "#             roi_data=np.ma.mean(attribs, axis=0),\n",
    "#             mask=mask\n",
    "#         )\n",
    "#         # print(appr_nifti_file)\n",
    "#         stat_img_all_rois.to_filename(cond_nifti_file)\n",
    "    "
   ]
  },
  {
   "cell_type": "code",
   "execution_count": null,
   "metadata": {},
   "outputs": [],
   "source": [
    "# from captum.attr import Deconvolution\n",
    "\n",
    "# method = 'deconvolution'\n",
    "# deconv = Deconvolution(sf_model)\n",
    "\n",
    "# for name, input, target in zip(names, inputs, targets):\n",
    "#     model.train()\n",
    "#     model.zero_grad()\n",
    "    \n",
    "#     cond_nifti_file = (f\"{results_dir}/emoprox_full_data/interpretations\" \n",
    "#                        f\"/idea1_method-{method}_name-{name}_target_class-{target_class}_ts.nii.gz\")\n",
    "#     if not os.path.exists(cond_nifti_file):\n",
    "        \n",
    "#         attribs = deconv.attribute(\n",
    "#             input,\n",
    "#             target=target_class,\n",
    "#         )\n",
    "\n",
    "#         attribs = torch.mul(attribs, (target != MASK)[:, :, None]).cpu().numpy()\n",
    "#         attribs = np.ma.masked_where(attribs == 0.0, attribs)\n",
    "\n",
    "#         stat_img_all_rois = plot_roi_vec_on_niimg(\n",
    "#             roi_data=np.ma.mean(attribs, axis=0),\n",
    "#             mask=mask\n",
    "#         )\n",
    "#         # print(appr_nifti_file)\n",
    "#         stat_img_all_rois.to_filename(cond_nifti_file)\n"
   ]
  }
 ],
 "metadata": {
  "interpreter": {
   "hash": "3b5cb7249c2b05c08ddca5a7278173987b98c572958faaa00b04c99c3e034fdc"
  },
  "kernelspec": {
   "display_name": "Python 3.9.10 ('expln-ai3.9': venv)",
   "language": "python",
   "name": "python3"
  },
  "language_info": {
   "codemirror_mode": {
    "name": "ipython",
    "version": 3
   },
   "file_extension": ".py",
   "mimetype": "text/x-python",
   "name": "python",
   "nbconvert_exporter": "python",
   "pygments_lexer": "ipython3",
   "version": "3.9.10"
  },
  "orig_nbformat": 4
 },
 "nbformat": 4,
 "nbformat_minor": 2
}
