{
 "cells": [
  {
   "cell_type": "markdown",
   "metadata": {},
   "source": [
    "# July 15, 2022: Selecting a subset of ROIs and colormaps"
   ]
  },
  {
   "cell_type": "code",
   "execution_count": 1,
   "metadata": {},
   "outputs": [],
   "source": [
    "import os\n",
    "import sys\n",
    "from os.path import join as pjoin\n",
    "\n",
    "import numpy as np\n",
    "import pandas as pd\n",
    "import pickle, random\n",
    "from tqdm import tqdm\n",
    "from scipy.stats import zscore\n",
    "\n",
    "# plotting\n",
    "import matplotlib as mpl\n",
    "import matplotlib.pyplot as plt\n",
    "plt.rcParamsDefault['font.family'] = \"sans-serif\"\n",
    "plt.rcParamsDefault['font.sans-serif'] = \"Arial\"\n",
    "plt.rcParams['font.size'] = 14\n",
    "plt.rcParams[\"errorbar.capsize\"] = 0.5\n",
    "\n",
    "# main dirs\n",
    "proj_dir = pjoin(os.environ['HOME'], 'network_dynamics')\n",
    "results_dir = f\"{proj_dir}/results\"\n",
    "month_dir = f\"{proj_dir}/nb/jul22\"\n",
    "\n",
    "# folders\n",
    "sys.path.insert(0, proj_dir)\n",
    "import helpers.dataset_utils as dataset_utils"
   ]
  },
  {
   "cell_type": "markdown",
   "metadata": {},
   "source": [
    "## ROI ordering"
   ]
  },
  {
   "cell_type": "code",
   "execution_count": 2,
   "metadata": {},
   "outputs": [],
   "source": [
    "class ARGS(): pass\n",
    "args = ARGS()\n",
    "\n",
    "args.up_roi_idxs = np.array(\n",
    "    # upwards time series\n",
    "    [6, 7] + # dlPFC\n",
    "    list(range(12, 20)) + # ACC, ant.-, post.-MCC, pre-SMA\n",
    "    list(range(47, 51)) + # ant. ventral-, ant. dorsal-Insula\n",
    "    [53, 54] + # BST\n",
    "    [69, 70] + # ant/inf Thalamus\n",
    "    list(range(73, 79)) + # med/post-, ant/lat-, ant/med-Thalamus,  \n",
    "    [79, 80] # PAG\n",
    ")\n",
    "\n",
    "args.down_roi_idxs = np.array(\n",
    "    # downwards time series\n",
    "    list(range(0, 6)) + # OFC, vmPFC\n",
    "    list(range(20, 25)) + # PCC\n",
    "    list(range(59, 63)) + # ant.-, body-Hippocampus\n",
    "    [83, 84] # Crusl-krienen\n",
    ")\n",
    "\n",
    "args.roi_idxs = np.concatenate([args.up_roi_idxs, args.down_roi_idxs])\n",
    "args.num_rois = len(args.roi_idxs)"
   ]
  },
  {
   "cell_type": "code",
   "execution_count": 3,
   "metadata": {},
   "outputs": [],
   "source": [
    "with open(f\"{proj_dir}/data/max/exploratory_data_roi_indices.pkl\", 'wb') as f:\n",
    "    pickle.dump([args.up_roi_idxs, args.down_roi_idxs, args.roi_idxs], f)"
   ]
  },
  {
   "cell_type": "markdown",
   "metadata": {},
   "source": [
    "## Colormap"
   ]
  },
  {
   "cell_type": "code",
   "execution_count": 4,
   "metadata": {},
   "outputs": [],
   "source": [
    "# copied code from matplotlib\n",
    "cmaps = {}\n",
    "\n",
    "gradient = np.linspace(0, 1, 256)\n",
    "gradient = np.vstack((gradient, gradient))\n",
    "\n",
    "\n",
    "def plot_color_gradients(category, cmap_list):\n",
    "    # Create figure and adjust figure height to number of colormaps\n",
    "    nrows = len(cmap_list)\n",
    "    figh = 0.35 + 0.15 + (nrows + (nrows - 1) * 0.1) * 0.22\n",
    "    fig, axs = plt.subplots(nrows=nrows + 1, figsize=(6.4, figh))\n",
    "    fig.subplots_adjust(top=1 - 0.35 / figh, bottom=0.15 / figh,\n",
    "                        left=0.2, right=0.99)\n",
    "    axs[0].set_title(f'{category} colormaps', fontsize=14)\n",
    "\n",
    "    for ax, name in zip(axs, cmap_list):\n",
    "        ax.imshow(gradient, aspect='auto', cmap=plt.get_cmap(name))\n",
    "        ax.text(-0.01, 0.5, name, va='center', ha='right', fontsize=10,\n",
    "                transform=ax.transAxes)\n",
    "\n",
    "    # Turn off *all* ticks & spines, not just the ones with colormaps.\n",
    "    for ax in axs:\n",
    "        ax.set_axis_off()\n",
    "\n",
    "    # Save colormap list for later.\n",
    "    cmaps[category] = cmap_list"
   ]
  },
  {
   "cell_type": "code",
   "execution_count": 5,
   "metadata": {},
   "outputs": [
    {
     "data": {
      "image/png": "[encoded data removed]",
      "text/plain": [
       "<Figure size 460.8x243.504 with 13 Axes>"
      ]
     },
     "metadata": {
      "filenames": {
       "image/png": "/home/govindas/network_dynamics/_build/jupyter_execute/nb/jul22/00-data-max_desc-roi_ordering_and_colormap_7_0.png"
      },
      "needs_background": "light"
     },
     "output_type": "display_data"
    }
   ],
   "source": [
    "category = 'Diverging'\n",
    "cmap_list = ['PiYG', 'PRGn', 'BrBG', 'PuOr', 'RdGy', 'RdBu', 'RdYlBu',\n",
    "             'RdYlGn', 'Spectral', 'coolwarm', 'bwr', 'seismic']\n",
    "plot_color_gradients(category,\n",
    "                     cmap_list)"
   ]
  },
  {
   "cell_type": "code",
   "execution_count": 6,
   "metadata": {},
   "outputs": [
    {
     "data": {
      "image/png": "[encoded data removed]",
      "text/html": [
       "<div style=\"vertical-align: middle;\"><strong>RdBu</strong> </div><div class=\"cmap\"><img alt=\"RdBu colormap\" title=\"RdBu\" style=\"border: 1px solid #555;\" src=\"data:image/png;base64,iVBORw0KGgoAAAANSUhEUgAAAgAAAABACAYAAABsv8+/AAAAE3RFWHRUaXRsZQBSZEJ1IGNvbG9ybWFwChF0kwAAABl0RVh0RGVzY3JpcHRpb24AUmRCdSBjb2xvcm1hcIGj5AsAAAAwdEVYdEF1dGhvcgBNYXRwbG90bGliIHYzLjUuMSwgaHR0cHM6Ly9tYXRwbG90bGliLm9yZ/e3zs8AAAAydEVYdFNvZnR3YXJlAE1hdHBsb3RsaWIgdjMuNS4xLCBodHRwczovL21hdHBsb3RsaWIub3Jn2RFR6AAAAilJREFUeJzt1jFy2zAURVEQWkiWl/33EZGCgDhCDFEaFSneOQ1NgPiiNZ7x3X6XX62UUmo53LZx3f7L/bfvUWufczsmbX1jW6zXsX+b9utifT5X5/XX88fz5/p8P79HfXpuW6xfPj/tn+95e3muvjnv+j2Ozyl1XMdz762PeeU2rz+fu1z/9j36+db/7spWf7y2xfq5P52vn51fzpnmXb7HcVf2/sM/9+34YS/jfuy3xfNv7ved8/mrzxvv136cNz7nvo/943of8/rAx/1jv8/f24f707x9sT7mXO6X5/vp3Or652L/3n/xqznvz/vwOn0/bbo+1ttifdo/18vz8+3L+dP3v5zTv8+2319e9+V+P39/ff5y3ofnV+8x/t8CAEEEAAAEEgAAEEgAAEAgAQAAgQQAAAQSAAAQSAAAQCABAACBBAAABBIAABBIAABAIAEAAIEEAAAEEgAAEEgAAEAgAQAAgQQAAAQSAAAQSAAAQCABAACBBAAABBIAABBIAABAIAEAAIEEAAAEEgAAEEgAAEAgAQAAgQQAAAQSAAAQSAAAQCABAACBBAAABBIAABBIAABAIAEAAIEEAAAEEgAAEEgAAEAgAQAAgQQAAAQSAAAQSAAAQCABAACBBAAABBIAABBIAABAIAEAAIEEAAAEEgAAEEgAAEAgAQAAgQQAAAQSAAAQSAAAQCABAACBBAAABBIAABBIAABAIAEAAIEEAAAEEgAAEOgv2fZiJGr7/f4AAAAASUVORK5CYII=\"></div><div style=\"vertical-align: middle; max-width: 514px; display: flex; justify-content: space-between;\"><div style=\"float: left;\"><div title=\"#67001fff\" style=\"display: inline-block; width: 1em; height: 1em; margin: 0; vertical-align: middle; border: 1px solid #555; background-color: #67001fff;\"></div> under</div><div style=\"margin: 0 auto; display: inline-block;\">bad <div title=\"#00000000\" style=\"display: inline-block; width: 1em; height: 1em; margin: 0; vertical-align: middle; border: 1px solid #555; background-color: #00000000;\"></div></div><div style=\"float: right;\">over <div title=\"#053061ff\" style=\"display: inline-block; width: 1em; height: 1em; margin: 0; vertical-align: middle; border: 1px solid #555; background-color: #053061ff;\"></div></div>"
      ],
      "text/plain": [
       "<matplotlib.colors.LinearSegmentedColormap at 0x7f7c10a394c0>"
      ]
     },
     "execution_count": 6,
     "metadata": {
      "filenames": {
       "image/png": "/home/govindas/network_dynamics/_build/jupyter_execute/nb/jul22/00-data-max_desc-roi_ordering_and_colormap_8_0.png"
      }
     },
     "output_type": "execute_result"
    }
   ],
   "source": [
    "plt.get_cmap(cmap_list[5])"
   ]
  },
  {
   "cell_type": "markdown",
   "metadata": {},
   "source": [
    "### looks great!"
   ]
  },
  {
   "cell_type": "code",
   "execution_count": 7,
   "metadata": {},
   "outputs": [
    {
     "data": {
      "image/png": "[encoded data removed]",
      "text/html": [
       "<div style=\"vertical-align: middle;\"><strong>iceburn</strong> </div><div class=\"cmap\"><img alt=\"iceburn colormap\" title=\"iceburn\" style=\"border: 1px solid #555;\" src=\"data:image/png;base64,iVBORw0KGgoAAAANSUhEUgAAAgAAAABACAYAAABsv8+/AAAAFnRFWHRUaXRsZQBpY2VidXJuIGNvbG9ybWFwjwPD8gAAABx0RVh0RGVzY3JpcHRpb24AaWNlYnVybiBjb2xvcm1hcCgtcosAAAAwdEVYdEF1dGhvcgBNYXRwbG90bGliIHYzLjUuMSwgaHR0cHM6Ly9tYXRwbG90bGliLm9yZ/e3zs8AAAAydEVYdFNvZnR3YXJlAE1hdHBsb3RsaWIgdjMuNS4xLCBodHRwczovL21hdHBsb3RsaWIub3Jn2RFR6AAAAvVJREFUeJzt1jmS3DAMBVCAun/kk7qcCw5ELVS3PQfAe1VTTRLcpFHw89fvP1VVsVdEVUXtcbWvsZpj+zm21q+xR32f657tpbb/p/alf49V7Hv8sOan8Yh9/3dtOet63vg4932v4x3c47H8VkRFxH70oyJyjuUekRURVZEVMaqusayKrIpREbk/2lVz3jm2X3OPv33W9rs/L/dux9U/2/Oiy9jaj9ecetbifAmf43W9pFmbc5/zKl5r466f6+u1ruZ96nnuXHePnXPutZ/ratm75j+z3nPOPaI+9rvv/32PdZ/nPR57vNe+x+Nzn5hj9fjwqmL5/Umev5lHO4+REXmPRcQ2RmREjLOeI0ZGnDO2Meb8s3+0r/kjrz0jIrbMr/NnObYckXncI+a543mffN1v9sccGHme96jP54yI2GZtLOsfz5PxOj/m86773ecde93PF/O8WPqf82s5797/7M/6eO9X6/xR3+tz/zHb1/mv+WNU5FxzzD/a41w/Yq2Pinju/6Wer3p8rR/9HBU5Xv1c7xdLPZb9c4t1v9m/vuct5n3Per7m56znUo+rfnyP5wsc82PI2c/5gTzXR+Z/6mP5IHKMY85Sf6zfxvKAuX2Z/6V/nhfb8aWf3zsA0IgAAAANCQAA0JAAAAANCQAA0JAAAAANCQAA0JAAAAANCQAA0JAAAAANCQAA0JAAAAANCQAA0JAAAAANCQAA0JAAAAANCQAA0JAAAAANCQAA0JAAAAANCQAA0JAAAAANCQAA0JAAAAANCQAA0JAAAAANCQAA0JAAAAANCQAA0JAAAAANCQAA0JAAAAANCQAA0JAAAAANCQAA0JAAAAANCQAA0JAAAAANCQAA0JAAAAANCQAA0JAAAAANCQAA0JAAAAANCQAA0JAAAAANCQAA0JAAAAANCQAA0JAAAAANCQAA0JAAAAANCQAA0JAAAAANCQAA0JAAAAANCQAA0JAAAAANCQAA0JAAAAANCQAA0JAAAAANCQAA0NBfMFk7s+GkhSwAAAAASUVORK5CYII=\"></div><div style=\"vertical-align: middle; max-width: 514px; display: flex; justify-content: space-between;\"><div style=\"float: left;\"><div title=\"#94f1f3ff\" style=\"display: inline-block; width: 1em; height: 1em; margin: 0; vertical-align: middle; border: 1px solid #555; background-color: #94f1f3ff;\"></div> under</div><div style=\"margin: 0 auto; display: inline-block;\">bad <div title=\"#00000000\" style=\"display: inline-block; width: 1em; height: 1em; margin: 0; vertical-align: middle; border: 1px solid #555; background-color: #00000000;\"></div></div><div style=\"float: right;\">over <div title=\"#f5de45ff\" style=\"display: inline-block; width: 1em; height: 1em; margin: 0; vertical-align: middle; border: 1px solid #555; background-color: #f5de45ff;\"></div></div>"
      ],
      "text/plain": [
       "<matplotlib.colors.ListedColormap at 0x7f7c074b4640>"
      ]
     },
     "execution_count": 7,
     "metadata": {
      "filenames": {
       "image/png": "/home/govindas/network_dynamics/_build/jupyter_execute/nb/jul22/00-data-max_desc-roi_ordering_and_colormap_10_0.png"
      }
     },
     "output_type": "execute_result"
    }
   ],
   "source": [
    "import cmasher as cmr\n",
    "plt.get_cmap(cmr.iceburn)"
   ]
  }
 ],
 "metadata": {
  "kernelspec": {
   "display_name": "Python 3.9.10 ('expln-ai3.9': venv)",
   "language": "python",
   "name": "python3"
  },
  "language_info": {
   "codemirror_mode": {
    "name": "ipython",
    "version": 3
   },
   "file_extension": ".py",
   "mimetype": "text/x-python",
   "name": "python",
   "nbconvert_exporter": "python",
   "pygments_lexer": "ipython3",
   "version": "3.9.10"
  },
  "vscode": {
   "interpreter": {
    "hash": "3b5cb7249c2b05c08ddca5a7278173987b98c572958faaa00b04c99c3e034fdc"
   }
  }
 },
 "nbformat": 4,
 "nbformat_minor": 2
}