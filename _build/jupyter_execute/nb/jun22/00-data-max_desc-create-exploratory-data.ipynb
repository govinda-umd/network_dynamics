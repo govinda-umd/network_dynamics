{
 "cells": [
  {
   "cell_type": "markdown",
   "metadata": {},
   "source": [
    "# June 24, 2022: create exploratory dataset from the MAX dataset\n",
    "randomly sample 25\\% of subjects and run all analysis on them. once we explore and settle on some analyses, we can report the results on the other (bigger) dataset enruring generalizability of our findings."
   ]
  },
  {
   "cell_type": "code",
   "execution_count": 1,
   "metadata": {},
   "outputs": [],
   "source": [
    "import os\n",
    "import sys\n",
    "from os.path import join as pjoin\n",
    "\n",
    "import numpy as np\n",
    "import pandas as pd\n",
    "import pickle, random\n",
    "from tqdm import tqdm\n",
    "from scipy.stats import zscore\n",
    "\n",
    "# main dirs\n",
    "proj_dir = pjoin(os.environ['HOME'], 'network_dynamics')\n",
    "results_dir = f\"{proj_dir}/results\"\n",
    "month_dir = f\"{proj_dir}/nb/jun22\"\n",
    "\n",
    "# folders\n",
    "sys.path.insert(0, proj_dir)\n",
    "import helpers.dataset_utils as dataset_utils\n",
    " "
   ]
  },
  {
   "cell_type": "code",
   "execution_count": 2,
   "metadata": {},
   "outputs": [
    {
     "name": "stderr",
     "output_type": "stream",
     "text": [
      "100%|██████████| 27/27 [00:00<00:00, 2393.00it/s]\n"
     ]
    }
   ],
   "source": [
    "'''\n",
    "dataframe\n",
    "'''\n",
    "max_data_path = f\"/home/govindas/explainable-ai/data/max/data_df.pkl\"\n",
    "with open(max_data_path, 'rb') as f:\n",
    "    max_data_df = pickle.load(f)\n",
    "\n",
    "'''\n",
    "exploratory data\n",
    "'''\n",
    "class ARGS(): pass\n",
    "args = ARGS()\n",
    "\n",
    "args.SEED = 74\n",
    "args.LABELS = [0, 1]\n",
    "args.names = ['safe', 'threat']\n",
    "args.MASK = -100\n",
    "\n",
    "num_rois = 85\n",
    "args.roi_idxs = np.arange(num_rois)\n",
    "\n",
    "np.random.seed(args.SEED)\n",
    "\n",
    "args.num_subjects = len(max_data_df)\n",
    "args.num_explor = round(0.25 * args.num_subjects)\n",
    "\n",
    "subject_idx_list = np.arange(args.num_subjects)\n",
    "random.Random(args.SEED).shuffle(subject_idx_list)\n",
    "\n",
    "explor_list = subject_idx_list[:args.num_explor]\n",
    "X = dataset_utils.get_max_data_trials(args, max_data_df, explor_list)\n",
    "\n",
    "with open(f\"{proj_dir}/data/max/exploratory_data.pkl\", 'wb') as f:\n",
    "    pickle.dump(X, f)\n"
   ]
  }
 ],
 "metadata": {
  "kernelspec": {
   "display_name": "Python 3.9.10 ('expln-ai3.9': venv)",
   "language": "python",
   "name": "python3"
  },
  "language_info": {
   "codemirror_mode": {
    "name": "ipython",
    "version": 3
   },
   "file_extension": ".py",
   "mimetype": "text/x-python",
   "name": "python",
   "nbconvert_exporter": "python",
   "pygments_lexer": "ipython3",
   "version": "3.9.10"
  },
  "vscode": {
   "interpreter": {
    "hash": "3b5cb7249c2b05c08ddca5a7278173987b98c572958faaa00b04c99c3e034fdc"
   }
  }
 },
 "nbformat": 4,
 "nbformat_minor": 2
}